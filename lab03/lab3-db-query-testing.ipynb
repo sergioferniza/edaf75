{
 "cells": [
  {
   "cell_type": "markdown",
   "id": "9ddd0fb8",
   "metadata": {},
   "source": [
    "<!-- -*- mode: markdown; coding: utf-8; fill-column: 60; ispell-dictionary: \"english\" -*- -->\n",
    "\n",
    "<meta charset=\"utf-8\"/>\n",
    "<meta name=\"viewport\" content=\"width=device-width,initial-scale=1\"/>\n",
    "<link rel=\"stylesheet\" href=\"style.css\">\n",
    "\n",
    "\n",
    "# EDAF75 - Lab 3: Testing Queries for REST Server\n",
    "\n",
    "As usual we have to tell Jupyter to allow SQL:"
   ]
  },
  {
   "cell_type": "code",
   "execution_count": 2,
   "id": "c8ba870c",
   "metadata": {},
   "outputs": [],
   "source": [
    "%load_ext sql"
   ]
  },
  {
   "cell_type": "markdown",
   "id": "df8749a8",
   "metadata": {},
   "source": [
    "Check SQL Version"
   ]
  },
  {
   "cell_type": "code",
   "execution_count": 3,
   "id": "bf36cd54",
   "metadata": {},
   "outputs": [
    {
     "name": "stdout",
     "output_type": "stream",
     "text": [
      "SQLite Version 3.40.1\n"
     ]
    }
   ],
   "source": [
    "import sqlite3\n",
    "ver = sqlite3.sqlite_version_info\n",
    "print(\"SQLite Version {}.{}.{}\".format(ver[0], ver[1], ver[2]))"
   ]
  },
  {
   "cell_type": "markdown",
   "id": "845e42bb",
   "metadata": {},
   "source": [
    "And then we import our movie database"
   ]
  },
  {
   "cell_type": "code",
   "execution_count": 4,
   "id": "56328b4d",
   "metadata": {},
   "outputs": [],
   "source": [
    "%sql sqlite:///theaters.sqlite"
   ]
  },
  {
   "cell_type": "markdown",
   "id": "91dc1263",
   "metadata": {},
   "source": [
    "We want to make sure that SQLite3 really checks our foreign\n",
    "key constraints -- to do that, we run:"
   ]
  },
  {
   "cell_type": "code",
   "execution_count": 5,
   "id": "19fb92fd",
   "metadata": {},
   "outputs": [
    {
     "name": "stdout",
     "output_type": "stream",
     "text": [
      " * sqlite:///theaters.sqlite\n",
      "Done.\n"
     ]
    },
    {
     "data": {
      "text/plain": [
       "[]"
      ]
     },
     "execution_count": 5,
     "metadata": {},
     "output_type": "execute_result"
    }
   ],
   "source": [
    "%%sql\n",
    "PRAGMA foreign_keys=ON;"
   ]
  },
  {
   "cell_type": "markdown",
   "id": "1c8d51d7",
   "metadata": {},
   "source": [
    "## SQL Query Testing Below\n",
    "\n",
    "Write SQL code for the following tasks:\n",
    "\n",
    "+ Give a summary of all tickets for a user, like this:\n",
    "```\n",
    "curl -X GET http://localhost:7007/users/alice/tickets\n",
    "{\n",
    "    \"data\": [\n",
    "        {\n",
    "            \"date\": \"2021-02-22\",\n",
    "            \"startTime\": \"19:00\",\n",
    "            \"theater\": \"Kino\",\n",
    "            \"title\": \"The Shape of Water\",\n",
    "            \"year\": 2017,\n",
    "            \"nbrOfTickets\": 2\n",
    "        },\n",
    "        {\n",
    "            \"date\": \"2021-02-23\",\n",
    "            \"startTime\": \"19:00\",\n",
    "            \"theater\": \"Skandia\",\n",
    "            \"title\": \"Moonlight\",\n",
    "            \"year\": 2016,\n",
    "            \"nbrOfTickets\": 1\n",
    "        }\n",
    "    ]\n",
    "}\n",
    "```"
   ]
  },
  {
   "cell_type": "code",
   "execution_count": 15,
   "id": "b3b449ff",
   "metadata": {},
   "outputs": [
    {
     "name": "stdout",
     "output_type": "stream",
     "text": [
      " * sqlite:///theaters.sqlite\n",
      "Done.\n"
     ]
    },
    {
     "data": {
      "text/html": [
       "<table>\n",
       "    <tr>\n",
       "        <th>TicketId</th>\n",
       "        <th>PerformanceId</th>\n",
       "        <th>Username</th>\n",
       "        <th>CustomerName</th>\n",
       "        <th>UserPassword</th>\n",
       "    </tr>\n",
       "    <tr>\n",
       "        <td>b88887153900dbff9dd6f82eb75587d6</td>\n",
       "        <td>3</td>\n",
       "        <td>jacob1576</td>\n",
       "        <td>Jacob Krucinski</td>\n",
       "        <td>moVieAccount7428@</td>\n",
       "    </tr>\n",
       "    <tr>\n",
       "        <td>62390aff22b642c3ee04e2ee071acb6f</td>\n",
       "        <td>3</td>\n",
       "        <td>jacob1576</td>\n",
       "        <td>Jacob Krucinski</td>\n",
       "        <td>moVieAccount7428@</td>\n",
       "    </tr>\n",
       "    <tr>\n",
       "        <td>71624c294e4dae2afd6ed07772dad948</td>\n",
       "        <td>5</td>\n",
       "        <td>jacob1576</td>\n",
       "        <td>Jacob Krucinski</td>\n",
       "        <td>moVieAccount7428@</td>\n",
       "    </tr>\n",
       "    <tr>\n",
       "        <td>ab4949f77ac1800dbf827554a334c7e3</td>\n",
       "        <td>14</td>\n",
       "        <td>jacob1576</td>\n",
       "        <td>Jacob Krucinski</td>\n",
       "        <td>moVieAccount7428@</td>\n",
       "    </tr>\n",
       "    <tr>\n",
       "        <td>c213288a92d6b3b47f600bac5dabc297</td>\n",
       "        <td>17</td>\n",
       "        <td>jacob1576</td>\n",
       "        <td>Jacob Krucinski</td>\n",
       "        <td>moVieAccount7428@</td>\n",
       "    </tr>\n",
       "    <tr>\n",
       "        <td>e6a2dd68dbe8fe944820a2092254ea56</td>\n",
       "        <td>16</td>\n",
       "        <td>jacob1576</td>\n",
       "        <td>Jacob Krucinski</td>\n",
       "        <td>moVieAccount7428@</td>\n",
       "    </tr>\n",
       "</table>"
      ],
      "text/plain": [
       "[('b88887153900dbff9dd6f82eb75587d6', 3, 'jacob1576', 'Jacob Krucinski', 'moVieAccount7428@'),\n",
       " ('62390aff22b642c3ee04e2ee071acb6f', 3, 'jacob1576', 'Jacob Krucinski', 'moVieAccount7428@'),\n",
       " ('71624c294e4dae2afd6ed07772dad948', 5, 'jacob1576', 'Jacob Krucinski', 'moVieAccount7428@'),\n",
       " ('ab4949f77ac1800dbf827554a334c7e3', 14, 'jacob1576', 'Jacob Krucinski', 'moVieAccount7428@'),\n",
       " ('c213288a92d6b3b47f600bac5dabc297', 17, 'jacob1576', 'Jacob Krucinski', 'moVieAccount7428@'),\n",
       " ('e6a2dd68dbe8fe944820a2092254ea56', 16, 'jacob1576', 'Jacob Krucinski', 'moVieAccount7428@')]"
      ]
     },
     "execution_count": 15,
     "metadata": {},
     "output_type": "execute_result"
    }
   ],
   "source": [
    "%%sql\n",
    "SELECT      *\n",
    "FROM        Ticket\n",
    "RIGHT JOIN  Customer\n",
    "USING       (username)\n",
    "WHERE       username=\"jacob1576\""
   ]
  },
  {
   "cell_type": "code",
   "execution_count": 27,
   "id": "7c05609f",
   "metadata": {},
   "outputs": [
    {
     "name": "stdout",
     "output_type": "stream",
     "text": [
      " * sqlite:///theaters.sqlite\n",
      "Done.\n"
     ]
    },
    {
     "data": {
      "text/html": [
       "<table>\n",
       "    <tr>\n",
       "        <th>n_tickets</th>\n",
       "        <th>PerformanceId</th>\n",
       "        <th>CustomerName</th>\n",
       "        <th>UserPassword</th>\n",
       "    </tr>\n",
       "    <tr>\n",
       "        <td>16</td>\n",
       "        <td>1</td>\n",
       "        <td>John Smith</td>\n",
       "        <td>password123</td>\n",
       "    </tr>\n",
       "</table>"
      ],
      "text/plain": [
       "[(16, 1, 'John Smith', 'password123')]"
      ]
     },
     "execution_count": 27,
     "metadata": {},
     "output_type": "execute_result"
    }
   ],
   "source": [
    "%%sql\n",
    "WITH all_customer_data AS\n",
    "(\n",
    "    SELECT      count() AS n_tickets, PerformanceId, CustomerName, UserPassword\n",
    "    FROM        Ticket\n",
    "    RIGHT JOIN  Customer\n",
    "    USING       (username)\n",
    "    --WHERE       username=\"jacob1576\"\n",
    "    --GROUP BY    PerformanceId\n",
    "    LEFT JOIN   Performance\n",
    "    USING       (PerformanceId)\n",
    ")\n",
    "\n",
    "SELECT *\n",
    "FROM   all_customer_data"
   ]
  },
  {
   "cell_type": "code",
   "execution_count": 34,
   "id": "87ffcc3c",
   "metadata": {},
   "outputs": [
    {
     "name": "stdout",
     "output_type": "stream",
     "text": [
      " * sqlite:///theaters.sqlite\n",
      "Done.\n"
     ]
    },
    {
     "data": {
      "text/html": [
       "<table>\n",
       "    <tr>\n",
       "        <th>n_tickets</th>\n",
       "        <th>PerformanceId</th>\n",
       "        <th>CustomerName</th>\n",
       "        <th>UserPassword</th>\n",
       "        <th>StartTime</th>\n",
       "        <th>PerformanceDate</th>\n",
       "        <th>TheaterName</th>\n",
       "        <th>IMDBKey</th>\n",
       "    </tr>\n",
       "    <tr>\n",
       "        <td>2</td>\n",
       "        <td>3</td>\n",
       "        <td>Jacob Krucinski</td>\n",
       "        <td>moVieAccount7428@</td>\n",
       "        <td>17:00</td>\n",
       "        <td>2023-01-23</td>\n",
       "        <td>Artcraft Theater</td>\n",
       "        <td>tt0109830</td>\n",
       "    </tr>\n",
       "    <tr>\n",
       "        <td>1</td>\n",
       "        <td>5</td>\n",
       "        <td>Jacob Krucinski</td>\n",
       "        <td>moVieAccount7428@</td>\n",
       "        <td>19:10</td>\n",
       "        <td>2022-10-06</td>\n",
       "        <td>Capitol Theater</td>\n",
       "        <td>tt0468569</td>\n",
       "    </tr>\n",
       "    <tr>\n",
       "        <td>1</td>\n",
       "        <td>14</td>\n",
       "        <td>Jacob Krucinski</td>\n",
       "        <td>moVieAccount7428@</td>\n",
       "        <td>09:20</td>\n",
       "        <td>2023-02-04</td>\n",
       "        <td>Garneau Theater</td>\n",
       "        <td>tt0876563</td>\n",
       "    </tr>\n",
       "    <tr>\n",
       "        <td>1</td>\n",
       "        <td>16</td>\n",
       "        <td>Jacob Krucinski</td>\n",
       "        <td>moVieAccount7428@</td>\n",
       "        <td>12:30</td>\n",
       "        <td>2049-01-01[</td>\n",
       "        <td>Atlantic</td>\n",
       "        <td>tt1856101</td>\n",
       "    </tr>\n",
       "    <tr>\n",
       "        <td>1</td>\n",
       "        <td>17</td>\n",
       "        <td>Jacob Krucinski</td>\n",
       "        <td>moVieAccount7428@</td>\n",
       "        <td>21:00</td>\n",
       "        <td>2022-11-06</td>\n",
       "        <td>Astoria</td>\n",
       "        <td>tt0088247</td>\n",
       "    </tr>\n",
       "</table>"
      ],
      "text/plain": [
       "[(2, 3, 'Jacob Krucinski', 'moVieAccount7428@', '17:00', '2023-01-23', 'Artcraft Theater', 'tt0109830'),\n",
       " (1, 5, 'Jacob Krucinski', 'moVieAccount7428@', '19:10', '2022-10-06', 'Capitol Theater', 'tt0468569'),\n",
       " (1, 14, 'Jacob Krucinski', 'moVieAccount7428@', '09:20', '2023-02-04', 'Garneau Theater', 'tt0876563'),\n",
       " (1, 16, 'Jacob Krucinski', 'moVieAccount7428@', '12:30', '2049-01-01[', 'Atlantic', 'tt1856101'),\n",
       " (1, 17, 'Jacob Krucinski', 'moVieAccount7428@', '21:00', '2022-11-06', 'Astoria', 'tt0088247')]"
      ]
     },
     "execution_count": 34,
     "metadata": {},
     "output_type": "execute_result"
    }
   ],
   "source": [
    "%%sql\n",
    "WITH short_customer_data AS\n",
    "(\n",
    "    SELECT      count() AS n_tickets, PerformanceId, CustomerName, UserPassword\n",
    "    FROM        Ticket\n",
    "    RIGHT JOIN  Customer\n",
    "    USING       (username)\n",
    "    WHERE       username=\"jacob1576\"\n",
    "    GROUP BY    PerformanceId\n",
    ")\n",
    "\n",
    "SELECT      *\n",
    "FROM        short_customer_data\n",
    "LEFT JOIN   Performance\n",
    "USING       (PerformanceId)"
   ]
  },
  {
   "cell_type": "code",
   "execution_count": 49,
   "id": "38c77fb1",
   "metadata": {},
   "outputs": [
    {
     "name": "stdout",
     "output_type": "stream",
     "text": [
      " * sqlite:///theaters.sqlite\n",
      "Done.\n"
     ]
    },
    {
     "data": {
      "text/html": [
       "<table>\n",
       "    <tr>\n",
       "        <th>PerformanceDate</th>\n",
       "        <th>StartTime</th>\n",
       "        <th>TheaterName</th>\n",
       "        <th>MovieTitle</th>\n",
       "        <th>ProductionYear</th>\n",
       "        <th>nbrOfTickets</th>\n",
       "    </tr>\n",
       "    <tr>\n",
       "        <td>2023-01-01</td>\n",
       "        <td>13:15</td>\n",
       "        <td>Artcraft Theater</td>\n",
       "        <td>Forest Gump</td>\n",
       "        <td>1994</td>\n",
       "        <td>1</td>\n",
       "    </tr>\n",
       "    <tr>\n",
       "        <td>2023-01-11</td>\n",
       "        <td>21:20</td>\n",
       "        <td>Booth Theater</td>\n",
       "        <td>Silence of the Lambs</td>\n",
       "        <td>1991</td>\n",
       "        <td>1</td>\n",
       "    </tr>\n",
       "    <tr>\n",
       "        <td>2023-02-04</td>\n",
       "        <td>19:25</td>\n",
       "        <td>Royal Cinema</td>\n",
       "        <td>Ponyo</td>\n",
       "        <td>2008</td>\n",
       "        <td>1</td>\n",
       "    </tr>\n",
       "</table>"
      ],
      "text/plain": [
       "[('2023-01-01', '13:15', 'Artcraft Theater', 'Forest Gump', 1994, 1),\n",
       " ('2023-01-11', '21:20', 'Booth Theater', 'Silence of the Lambs', 1991, 1),\n",
       " ('2023-02-04', '19:25', 'Royal Cinema', 'Ponyo', 2008, 1)]"
      ]
     },
     "execution_count": 49,
     "metadata": {},
     "output_type": "execute_result"
    }
   ],
   "source": [
    "%%sql\n",
    "-- All in one statement\n",
    "SELECT      PerformanceDate, StartTime, TheaterName, MovieTitle, ProductionYear, count() as nbrOfTickets\n",
    "FROM        Ticket\n",
    "LEFT JOIN   Customer\n",
    "USING       (username)\n",
    "LEFT JOIN   Performance\n",
    "USING       (PerformanceId)\n",
    "LEFT JOIN   Movie\n",
    "USING       (IMDBKey)\n",
    "WHERE       username=\"alice2002\"\n",
    "GROUP BY    PerformanceId"
   ]
  },
  {
   "cell_type": "raw",
   "id": "a159fd6d",
   "metadata": {},
   "source": []
  }
 ],
 "metadata": {
  "kernelspec": {
   "display_name": "Python 3 (ipykernel)",
   "language": "python",
   "name": "python3"
  },
  "language_info": {
   "codemirror_mode": {
    "name": "ipython",
    "version": 3
   },
   "file_extension": ".py",
   "mimetype": "text/x-python",
   "name": "python",
   "nbconvert_exporter": "python",
   "pygments_lexer": "ipython3",
   "version": "3.10.9"
  },
  "vscode": {
   "interpreter": {
    "hash": "d1fd2003664248a0ff29074ee8a668a7dfc00b264c145278eb1914a848d2862b"
   }
  }
 },
 "nbformat": 4,
 "nbformat_minor": 5
}
