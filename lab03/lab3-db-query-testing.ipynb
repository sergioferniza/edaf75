{
 "cells": [
  {
   "cell_type": "markdown",
   "id": "6014032e",
   "metadata": {},
   "source": [
    "<!-- -*- mode: markdown; coding: utf-8; fill-column: 60; ispell-dictionary: \"english\" -*- -->\n",
    "\n",
    "<meta charset=\"utf-8\"/>\n",
    "<meta name=\"viewport\" content=\"width=device-width,initial-scale=1\"/>\n",
    "<link rel=\"stylesheet\" href=\"style.css\">\n",
    "\n",
    "\n",
    "# EDAF75 - Lab 3: Testing Queries for REST Server\n",
    "\n",
    "As usual we have to tell Jupyter to allow SQL:"
   ]
  },
  {
   "cell_type": "code",
   "execution_count": 1,
   "id": "9a8cb1c9",
   "metadata": {},
   "outputs": [],
   "source": [
    "%load_ext sql"
   ]
  },
  {
   "cell_type": "markdown",
   "id": "58fa5aa6",
   "metadata": {},
   "source": [
    "Check SQL Version"
   ]
  },
  {
   "cell_type": "code",
   "execution_count": 2,
   "id": "1e83f22a",
   "metadata": {},
   "outputs": [
    {
     "name": "stdout",
     "output_type": "stream",
     "text": [
      "SQLite Version 3.40.1\n"
     ]
    }
   ],
   "source": [
    "import sqlite3\n",
    "ver = sqlite3.sqlite_version_info\n",
    "print(\"SQLite Version {}.{}.{}\".format(ver[0], ver[1], ver[2]))"
   ]
  },
  {
   "cell_type": "markdown",
   "id": "093d877a",
   "metadata": {},
   "source": [
    "And then we import our movie database"
   ]
  },
  {
   "cell_type": "code",
   "execution_count": 3,
   "id": "c617b158",
   "metadata": {},
   "outputs": [],
   "source": [
    "%sql sqlite:///theaters.sqlite"
   ]
  },
  {
   "cell_type": "markdown",
   "id": "fb66f205",
   "metadata": {},
   "source": [
    "We want to make sure that SQLite3 really checks our foreign\n",
    "key constraints -- to do that, we run:"
   ]
  },
  {
   "cell_type": "code",
   "execution_count": 4,
   "id": "00550ef0",
   "metadata": {},
   "outputs": [
    {
     "name": "stdout",
     "output_type": "stream",
     "text": [
      " * sqlite:///theaters.sqlite\n",
      "Done.\n"
     ]
    },
    {
     "data": {
      "text/plain": [
       "[]"
      ]
     },
     "execution_count": 4,
     "metadata": {},
     "output_type": "execute_result"
    }
   ],
   "source": [
    "%%sql\n",
    "PRAGMA foreign_keys=ON;"
   ]
  },
  {
   "cell_type": "code",
   "execution_count": 13,
   "id": "1ab3d4fa",
   "metadata": {},
   "outputs": [
    {
     "name": "stdout",
     "output_type": "stream",
     "text": [
      " * sqlite:///theaters.sqlite\n",
      "Done.\n"
     ]
    },
    {
     "data": {
      "text/html": [
       "<table>\n",
       "    <tr>\n",
       "        <th>TheaterName</th>\n",
       "        <th>Capacity</th>\n",
       "        <th>PerformanceId</th>\n",
       "        <th>StartTime</th>\n",
       "        <th>PerformanceDate</th>\n",
       "        <th>IMDBKey</th>\n",
       "    </tr>\n",
       "    <tr>\n",
       "        <td>Apollo Theatre</td>\n",
       "        <td>40</td>\n",
       "        <td>None</td>\n",
       "        <td>None</td>\n",
       "        <td>None</td>\n",
       "        <td>None</td>\n",
       "    </tr>\n",
       "    <tr>\n",
       "        <td>Artcraft Theater</td>\n",
       "        <td>450</td>\n",
       "        <td>1</td>\n",
       "        <td>10:00</td>\n",
       "        <td>2023-01-15</td>\n",
       "        <td>tt1630029</td>\n",
       "    </tr>\n",
       "    <tr>\n",
       "        <td>Artcraft Theater</td>\n",
       "        <td>450</td>\n",
       "        <td>2</td>\n",
       "        <td>13:15</td>\n",
       "        <td>2023-01-01</td>\n",
       "        <td>tt0109830</td>\n",
       "    </tr>\n",
       "    <tr>\n",
       "        <td>Artcraft Theater</td>\n",
       "        <td>450</td>\n",
       "        <td>3</td>\n",
       "        <td>17:00</td>\n",
       "        <td>2023-01-23</td>\n",
       "        <td>tt0109830</td>\n",
       "    </tr>\n",
       "    <tr>\n",
       "        <td>Booth Theater</td>\n",
       "        <td>750</td>\n",
       "        <td>4</td>\n",
       "        <td>21:20</td>\n",
       "        <td>2023-01-11</td>\n",
       "        <td>tt0102926</td>\n",
       "    </tr>\n",
       "    <tr>\n",
       "        <td>Capitol Theater</td>\n",
       "        <td>900</td>\n",
       "        <td>5</td>\n",
       "        <td>19:10</td>\n",
       "        <td>2022-10-06</td>\n",
       "        <td>tt0468569</td>\n",
       "    </tr>\n",
       "    <tr>\n",
       "        <td>Capitol Theater</td>\n",
       "        <td>900</td>\n",
       "        <td>6</td>\n",
       "        <td>22:45</td>\n",
       "        <td>2022-10-06</td>\n",
       "        <td>tt0468569</td>\n",
       "    </tr>\n",
       "    <tr>\n",
       "        <td>Cliff Theater</td>\n",
       "        <td>40</td>\n",
       "        <td>7</td>\n",
       "        <td>19:35</td>\n",
       "        <td>2022-12-16</td>\n",
       "        <td>tt0468569</td>\n",
       "    </tr>\n",
       "    <tr>\n",
       "        <td>Los Angeles Theater</td>\n",
       "        <td>1000</td>\n",
       "        <td>8</td>\n",
       "        <td>14:00</td>\n",
       "        <td>2022-12-17</td>\n",
       "        <td>tt0088847</td>\n",
       "    </tr>\n",
       "    <tr>\n",
       "        <td>Los Angeles Theater</td>\n",
       "        <td>1000</td>\n",
       "        <td>9</td>\n",
       "        <td>18:30</td>\n",
       "        <td>2022-12-18</td>\n",
       "        <td>tt0088847</td>\n",
       "    </tr>\n",
       "    <tr>\n",
       "        <td>Paramount Theater</td>\n",
       "        <td>12</td>\n",
       "        <td>10</td>\n",
       "        <td>18:15</td>\n",
       "        <td>2022-12-19</td>\n",
       "        <td>tt0092099</td>\n",
       "    </tr>\n",
       "    <tr>\n",
       "        <td>Paramount Theater</td>\n",
       "        <td>12</td>\n",
       "        <td>11</td>\n",
       "        <td>21:20</td>\n",
       "        <td>2022-12-19</td>\n",
       "        <td>tt0092099</td>\n",
       "    </tr>\n",
       "    <tr>\n",
       "        <td>Tower Theater</td>\n",
       "        <td>1</td>\n",
       "        <td>12</td>\n",
       "        <td>18:15</td>\n",
       "        <td>2022-12-19</td>\n",
       "        <td>tt0092099</td>\n",
       "    </tr>\n",
       "    <tr>\n",
       "        <td>Vista Theater</td>\n",
       "        <td>72</td>\n",
       "        <td>13</td>\n",
       "        <td>23:00</td>\n",
       "        <td>2023-02-01</td>\n",
       "        <td>tt0092099</td>\n",
       "    </tr>\n",
       "    <tr>\n",
       "        <td>Garneau Theater</td>\n",
       "        <td>450</td>\n",
       "        <td>14</td>\n",
       "        <td>09:20</td>\n",
       "        <td>2023-02-04</td>\n",
       "        <td>tt0876563</td>\n",
       "    </tr>\n",
       "    <tr>\n",
       "        <td>Royal Cinema</td>\n",
       "        <td>750</td>\n",
       "        <td>15</td>\n",
       "        <td>19:25</td>\n",
       "        <td>2023-02-04</td>\n",
       "        <td>tt0876563</td>\n",
       "    </tr>\n",
       "    <tr>\n",
       "        <td>Atlantic</td>\n",
       "        <td>900</td>\n",
       "        <td>16</td>\n",
       "        <td>12:30</td>\n",
       "        <td>2049-01-01[</td>\n",
       "        <td>tt1856101</td>\n",
       "    </tr>\n",
       "    <tr>\n",
       "        <td>Astoria</td>\n",
       "        <td>204</td>\n",
       "        <td>17</td>\n",
       "        <td>21:00</td>\n",
       "        <td>2022-11-06</td>\n",
       "        <td>tt0088247</td>\n",
       "    </tr>\n",
       "    <tr>\n",
       "        <td>Maximteatern</td>\n",
       "        <td>208</td>\n",
       "        <td>18</td>\n",
       "        <td>22:20</td>\n",
       "        <td>2022-11-06</td>\n",
       "        <td>tt0088247</td>\n",
       "    </tr>\n",
       "    <tr>\n",
       "        <td>Draken</td>\n",
       "        <td>10</td>\n",
       "        <td>19</td>\n",
       "        <td>13:30</td>\n",
       "        <td>2022-08-04</td>\n",
       "        <td>tt4912910</td>\n",
       "    </tr>\n",
       "</table>"
      ],
      "text/plain": [
       "[('Apollo Theatre', 40, None, None, None, None),\n",
       " ('Artcraft Theater', 450, 1, '10:00', '2023-01-15', 'tt1630029'),\n",
       " ('Artcraft Theater', 450, 2, '13:15', '2023-01-01', 'tt0109830'),\n",
       " ('Artcraft Theater', 450, 3, '17:00', '2023-01-23', 'tt0109830'),\n",
       " ('Booth Theater', 750, 4, '21:20', '2023-01-11', 'tt0102926'),\n",
       " ('Capitol Theater', 900, 5, '19:10', '2022-10-06', 'tt0468569'),\n",
       " ('Capitol Theater', 900, 6, '22:45', '2022-10-06', 'tt0468569'),\n",
       " ('Cliff Theater', 40, 7, '19:35', '2022-12-16', 'tt0468569'),\n",
       " ('Los Angeles Theater', 1000, 8, '14:00', '2022-12-17', 'tt0088847'),\n",
       " ('Los Angeles Theater', 1000, 9, '18:30', '2022-12-18', 'tt0088847'),\n",
       " ('Paramount Theater', 12, 10, '18:15', '2022-12-19', 'tt0092099'),\n",
       " ('Paramount Theater', 12, 11, '21:20', '2022-12-19', 'tt0092099'),\n",
       " ('Tower Theater', 1, 12, '18:15', '2022-12-19', 'tt0092099'),\n",
       " ('Vista Theater', 72, 13, '23:00', '2023-02-01', 'tt0092099'),\n",
       " ('Garneau Theater', 450, 14, '09:20', '2023-02-04', 'tt0876563'),\n",
       " ('Royal Cinema', 750, 15, '19:25', '2023-02-04', 'tt0876563'),\n",
       " ('Atlantic', 900, 16, '12:30', '2049-01-01[', 'tt1856101'),\n",
       " ('Astoria', 204, 17, '21:00', '2022-11-06', 'tt0088247'),\n",
       " ('Maximteatern', 208, 18, '22:20', '2022-11-06', 'tt0088247'),\n",
       " ('Draken', 10, 19, '13:30', '2022-08-04', 'tt4912910')]"
      ]
     },
     "execution_count": 13,
     "metadata": {},
     "output_type": "execute_result"
    }
   ],
   "source": [
    "%%sql\n",
    "SELECT    *\n",
    "FROM      Theater\n",
    "LEFT JOIN Performance\n",
    "USING     (TheaterName)"
   ]
  },
  {
   "cell_type": "markdown",
   "id": "26950251",
   "metadata": {},
   "source": [
    "## SQL Query Testing Below\n",
    "\n",
    "Write SQL code for the following tasks:\n",
    "\n",
    "+ Give a summary of all tickets for a user, like this:\n",
    "```\n",
    "curl -X GET http://localhost:7007/users/alice/tickets\n",
    "{\n",
    "    \"data\": [\n",
    "        {\n",
    "            \"date\": \"2021-02-22\",\n",
    "            \"startTime\": \"19:00\",\n",
    "            \"theater\": \"Kino\",\n",
    "            \"title\": \"The Shape of Water\",\n",
    "            \"year\": 2017,\n",
    "            \"nbrOfTickets\": 2\n",
    "        },\n",
    "        {\n",
    "            \"date\": \"2021-02-23\",\n",
    "            \"startTime\": \"19:00\",\n",
    "            \"theater\": \"Skandia\",\n",
    "            \"title\": \"Moonlight\",\n",
    "            \"year\": 2016,\n",
    "            \"nbrOfTickets\": 1\n",
    "        }\n",
    "    ]\n",
    "}\n",
    "```"
   ]
  },
  {
   "cell_type": "code",
   "execution_count": 10,
   "id": "84c9d0cb",
   "metadata": {},
   "outputs": [
    {
     "name": "stdout",
     "output_type": "stream",
     "text": [
      " * sqlite:///theaters.sqlite\n",
      "Done.\n"
     ]
    },
    {
     "data": {
      "text/html": [
       "<table>\n",
       "    <tr>\n",
       "        <th>n_tickets</th>\n",
       "        <th>PerformanceId</th>\n",
       "        <th>CustomerName</th>\n",
       "        <th>UserPassword</th>\n",
       "        <th>StartTime</th>\n",
       "        <th>PerformanceDate</th>\n",
       "        <th>TheaterName</th>\n",
       "        <th>IMDBKey</th>\n",
       "    </tr>\n",
       "    <tr>\n",
       "        <td>2</td>\n",
       "        <td>3</td>\n",
       "        <td>Jacob Krucinski</td>\n",
       "        <td>moVieAccount7428@</td>\n",
       "        <td>17:00</td>\n",
       "        <td>2023-01-23</td>\n",
       "        <td>Artcraft Theater</td>\n",
       "        <td>tt0109830</td>\n",
       "    </tr>\n",
       "    <tr>\n",
       "        <td>1</td>\n",
       "        <td>5</td>\n",
       "        <td>Jacob Krucinski</td>\n",
       "        <td>moVieAccount7428@</td>\n",
       "        <td>19:10</td>\n",
       "        <td>2022-10-06</td>\n",
       "        <td>Capitol Theater</td>\n",
       "        <td>tt0468569</td>\n",
       "    </tr>\n",
       "    <tr>\n",
       "        <td>1</td>\n",
       "        <td>14</td>\n",
       "        <td>Jacob Krucinski</td>\n",
       "        <td>moVieAccount7428@</td>\n",
       "        <td>09:20</td>\n",
       "        <td>2023-02-04</td>\n",
       "        <td>Garneau Theater</td>\n",
       "        <td>tt0876563</td>\n",
       "    </tr>\n",
       "    <tr>\n",
       "        <td>1</td>\n",
       "        <td>16</td>\n",
       "        <td>Jacob Krucinski</td>\n",
       "        <td>moVieAccount7428@</td>\n",
       "        <td>12:30</td>\n",
       "        <td>2049-01-01[</td>\n",
       "        <td>Atlantic</td>\n",
       "        <td>tt1856101</td>\n",
       "    </tr>\n",
       "    <tr>\n",
       "        <td>1</td>\n",
       "        <td>17</td>\n",
       "        <td>Jacob Krucinski</td>\n",
       "        <td>moVieAccount7428@</td>\n",
       "        <td>21:00</td>\n",
       "        <td>2022-11-06</td>\n",
       "        <td>Astoria</td>\n",
       "        <td>tt0088247</td>\n",
       "    </tr>\n",
       "</table>"
      ],
      "text/plain": [
       "[(2, 3, 'Jacob Krucinski', 'moVieAccount7428@', '17:00', '2023-01-23', 'Artcraft Theater', 'tt0109830'),\n",
       " (1, 5, 'Jacob Krucinski', 'moVieAccount7428@', '19:10', '2022-10-06', 'Capitol Theater', 'tt0468569'),\n",
       " (1, 14, 'Jacob Krucinski', 'moVieAccount7428@', '09:20', '2023-02-04', 'Garneau Theater', 'tt0876563'),\n",
       " (1, 16, 'Jacob Krucinski', 'moVieAccount7428@', '12:30', '2049-01-01[', 'Atlantic', 'tt1856101'),\n",
       " (1, 17, 'Jacob Krucinski', 'moVieAccount7428@', '21:00', '2022-11-06', 'Astoria', 'tt0088247')]"
      ]
     },
     "execution_count": 10,
     "metadata": {},
     "output_type": "execute_result"
    }
   ],
   "source": [
    "%%sql\n",
    "WITH short_customer_data AS\n",
    "(\n",
    "    SELECT      count() AS n_tickets, PerformanceId, CustomerName, UserPassword\n",
    "    FROM        Ticket\n",
    "    RIGHT JOIN  Customer\n",
    "    USING       (username)\n",
    "    WHERE       username=\"jacob1576\"\n",
    "    GROUP BY    PerformanceId\n",
    ")\n",
    "\n",
    "SELECT      *\n",
    "FROM        short_customer_data\n",
    "LEFT JOIN   Performance\n",
    "USING       (PerformanceId)"
   ]
  },
  {
   "cell_type": "code",
   "execution_count": 12,
   "id": "f8cf89ce",
   "metadata": {},
   "outputs": [
    {
     "name": "stdout",
     "output_type": "stream",
     "text": [
      " * sqlite:///theaters.sqlite\n",
      "Done.\n"
     ]
    },
    {
     "data": {
      "text/html": [
       "<table>\n",
       "    <tr>\n",
       "        <th>PerformanceDate</th>\n",
       "        <th>StartTime</th>\n",
       "        <th>TheaterName</th>\n",
       "        <th>MovieTitle</th>\n",
       "        <th>ProductionYear</th>\n",
       "        <th>nbrOfTickets</th>\n",
       "    </tr>\n",
       "    <tr>\n",
       "        <td>2023-01-23</td>\n",
       "        <td>17:00</td>\n",
       "        <td>Artcraft Theater</td>\n",
       "        <td>Forest Gump</td>\n",
       "        <td>1994</td>\n",
       "        <td>2</td>\n",
       "    </tr>\n",
       "    <tr>\n",
       "        <td>2022-10-06</td>\n",
       "        <td>19:10</td>\n",
       "        <td>Capitol Theater</td>\n",
       "        <td>The Dark Night</td>\n",
       "        <td>2008</td>\n",
       "        <td>1</td>\n",
       "    </tr>\n",
       "    <tr>\n",
       "        <td>2023-02-04</td>\n",
       "        <td>09:20</td>\n",
       "        <td>Garneau Theater</td>\n",
       "        <td>Ponyo</td>\n",
       "        <td>2008</td>\n",
       "        <td>1</td>\n",
       "    </tr>\n",
       "    <tr>\n",
       "        <td>2049-01-01[</td>\n",
       "        <td>12:30</td>\n",
       "        <td>Atlantic</td>\n",
       "        <td>Blade Runner 2049</td>\n",
       "        <td>2017</td>\n",
       "        <td>1</td>\n",
       "    </tr>\n",
       "    <tr>\n",
       "        <td>2022-11-06</td>\n",
       "        <td>21:00</td>\n",
       "        <td>Astoria</td>\n",
       "        <td>The Terminator</td>\n",
       "        <td>1984</td>\n",
       "        <td>1</td>\n",
       "    </tr>\n",
       "</table>"
      ],
      "text/plain": [
       "[('2023-01-23', '17:00', 'Artcraft Theater', 'Forest Gump', 1994, 2),\n",
       " ('2022-10-06', '19:10', 'Capitol Theater', 'The Dark Night', 2008, 1),\n",
       " ('2023-02-04', '09:20', 'Garneau Theater', 'Ponyo', 2008, 1),\n",
       " ('2049-01-01[', '12:30', 'Atlantic', 'Blade Runner 2049', 2017, 1),\n",
       " ('2022-11-06', '21:00', 'Astoria', 'The Terminator', 1984, 1)]"
      ]
     },
     "execution_count": 12,
     "metadata": {},
     "output_type": "execute_result"
    }
   ],
   "source": [
    "%%sql\n",
    "-- All in one statement\n",
    "SELECT      PerformanceDate, StartTime, TheaterName, MovieTitle, ProductionYear, count() as nbrOfTickets\n",
    "FROM        Ticket\n",
    "LEFT JOIN   Customer\n",
    "USING       (username)\n",
    "LEFT JOIN   Performance\n",
    "USING       (PerformanceId)\n",
    "LEFT JOIN   Movie\n",
    "USING       (IMDBKey)\n",
    "WHERE       username=\"jacob1576\"\n",
    "GROUP BY    PerformanceId"
   ]
  },
  {
   "cell_type": "markdown",
   "id": "40083a2a",
   "metadata": {},
   "source": [
    "+ Get a user's password"
   ]
  },
  {
   "cell_type": "code",
   "execution_count": 5,
   "id": "a474920f",
   "metadata": {},
   "outputs": [
    {
     "name": "stdout",
     "output_type": "stream",
     "text": [
      " * sqlite:///theaters.sqlite\n",
      "Done.\n"
     ]
    },
    {
     "data": {
      "text/html": [
       "<table>\n",
       "    <tr>\n",
       "        <th>UserPassword</th>\n",
       "    </tr>\n",
       "    <tr>\n",
       "        <td>moVieAccount7428@</td>\n",
       "    </tr>\n",
       "</table>"
      ],
      "text/plain": [
       "[('moVieAccount7428@',)]"
      ]
     },
     "execution_count": 5,
     "metadata": {},
     "output_type": "execute_result"
    }
   ],
   "source": [
    "%%sql\n",
    "SELECT UserPassword\n",
    "FROM   Customer\n",
    "WHERE  username=\"jacob1576\""
   ]
  },
  {
   "cell_type": "code",
   "execution_count": null,
   "id": "92d70a26",
   "metadata": {},
   "outputs": [],
   "source": []
  }
 ],
 "metadata": {
  "kernelspec": {
   "display_name": "Python 3 (ipykernel)",
   "language": "python",
   "name": "python3"
  },
  "language_info": {
   "codemirror_mode": {
    "name": "ipython",
    "version": 3
   },
   "file_extension": ".py",
   "mimetype": "text/x-python",
   "name": "python",
   "nbconvert_exporter": "python",
   "pygments_lexer": "ipython3",
   "version": "3.10.9"
  },
  "vscode": {
   "interpreter": {
    "hash": "d1fd2003664248a0ff29074ee8a668a7dfc00b264c145278eb1914a848d2862b"
   }
  }
 },
 "nbformat": 4,
 "nbformat_minor": 5
}
