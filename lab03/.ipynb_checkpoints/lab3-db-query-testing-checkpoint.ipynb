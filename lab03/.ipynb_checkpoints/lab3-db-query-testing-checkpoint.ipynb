{
 "cells": [
  {
   "cell_type": "markdown",
   "id": "6014032e",
   "metadata": {},
   "source": [
    "<!-- -*- mode: markdown; coding: utf-8; fill-column: 60; ispell-dictionary: \"english\" -*- -->\n",
    "\n",
    "<meta charset=\"utf-8\"/>\n",
    "<meta name=\"viewport\" content=\"width=device-width,initial-scale=1\"/>\n",
    "<link rel=\"stylesheet\" href=\"style.css\">\n",
    "\n",
    "\n",
    "# EDAF75 - Lab 3: Testing Queries for REST Server\n",
    "\n",
    "As usual we have to tell Jupyter to allow SQL:"
   ]
  },
  {
   "cell_type": "code",
   "execution_count": 1,
   "id": "9a8cb1c9",
   "metadata": {},
   "outputs": [],
   "source": [
    "%load_ext sql"
   ]
  },
  {
   "cell_type": "markdown",
   "id": "58fa5aa6",
   "metadata": {},
   "source": [
    "Check SQL Version"
   ]
  },
  {
   "cell_type": "code",
   "execution_count": 2,
   "id": "1e83f22a",
   "metadata": {},
   "outputs": [
    {
     "name": "stdout",
     "output_type": "stream",
     "text": [
      "SQLite Version 3.40.1\n"
     ]
    }
   ],
   "source": [
    "import sqlite3\n",
    "ver = sqlite3.sqlite_version_info\n",
    "print(\"SQLite Version {}.{}.{}\".format(ver[0], ver[1], ver[2]))"
   ]
  },
  {
   "cell_type": "markdown",
   "id": "093d877a",
   "metadata": {},
   "source": [
    "And then we import our movie database"
   ]
  },
  {
   "cell_type": "code",
   "execution_count": 3,
   "id": "c617b158",
   "metadata": {},
   "outputs": [],
   "source": [
    "%sql sqlite:///theaters.sqlite"
   ]
  },
  {
   "cell_type": "markdown",
   "id": "fb66f205",
   "metadata": {},
   "source": [
    "We want to make sure that SQLite3 really checks our foreign\n",
    "key constraints -- to do that, we run:"
   ]
  },
  {
   "cell_type": "code",
   "execution_count": 4,
   "id": "00550ef0",
   "metadata": {},
   "outputs": [
    {
     "name": "stdout",
     "output_type": "stream",
     "text": [
      " * sqlite:///theaters.sqlite\n",
      "Done.\n"
     ]
    },
    {
     "data": {
      "text/plain": [
       "[]"
      ]
     },
     "execution_count": 4,
     "metadata": {},
     "output_type": "execute_result"
    }
   ],
   "source": [
    "%%sql\n",
    "PRAGMA foreign_keys=ON;"
   ]
  },
  {
   "cell_type": "markdown",
   "id": "26950251",
   "metadata": {},
   "source": [
    "## SQL Query Testing Below\n",
    "\n",
    "Write SQL code for the following tasks:\n",
    "\n",
    "+ Give a summary of all tickets for a user, like this:\n",
    "```\n",
    "curl -X GET http://localhost:7007/users/alice/tickets\n",
    "{\n",
    "    \"data\": [\n",
    "        {\n",
    "            \"date\": \"2021-02-22\",\n",
    "            \"startTime\": \"19:00\",\n",
    "            \"theater\": \"Kino\",\n",
    "            \"title\": \"The Shape of Water\",\n",
    "            \"year\": 2017,\n",
    "            \"nbrOfTickets\": 2\n",
    "        },\n",
    "        {\n",
    "            \"date\": \"2021-02-23\",\n",
    "            \"startTime\": \"19:00\",\n",
    "            \"theater\": \"Skandia\",\n",
    "            \"title\": \"Moonlight\",\n",
    "            \"year\": 2016,\n",
    "            \"nbrOfTickets\": 1\n",
    "        }\n",
    "    ]\n",
    "}\n",
    "```"
   ]
  },
  {
   "cell_type": "code",
   "execution_count": null,
   "id": "3b45bcd1",
   "metadata": {},
   "outputs": [],
   "source": [
    "%%sql\n",
    "SELECT      *\n",
    "FROM        Ticket\n",
    "RIGHT JOIN  Customer\n",
    "USING       (username)\n",
    "WHERE       username=\"jacob1576\""
   ]
  },
  {
   "cell_type": "code",
   "execution_count": null,
   "id": "062f47ad",
   "metadata": {},
   "outputs": [],
   "source": [
    "%%sql\n",
    "WITH all_customer_data AS\n",
    "(\n",
    "    SELECT      count() AS n_tickets, PerformanceId, CustomerName, UserPassword\n",
    "    FROM        Ticket\n",
    "    RIGHT JOIN  Customer\n",
    "    USING       (username)\n",
    "    --WHERE       username=\"jacob1576\"\n",
    "    --GROUP BY    PerformanceId\n",
    "    LEFT JOIN   Performance\n",
    "    USING       (PerformanceId)\n",
    ")\n",
    "\n",
    "SELECT *\n",
    "FROM   all_customer_data"
   ]
  },
  {
   "cell_type": "code",
   "execution_count": null,
   "id": "84c9d0cb",
   "metadata": {},
   "outputs": [],
   "source": [
    "%%sql\n",
    "WITH short_customer_data AS\n",
    "(\n",
    "    SELECT      count() AS n_tickets, PerformanceId, CustomerName, UserPassword\n",
    "    FROM        Ticket\n",
    "    RIGHT JOIN  Customer\n",
    "    USING       (username)\n",
    "    WHERE       username=\"jacob1576\"\n",
    "    GROUP BY    PerformanceId\n",
    ")\n",
    "\n",
    "SELECT      *\n",
    "FROM        short_customer_data\n",
    "LEFT JOIN   Performance\n",
    "USING       (PerformanceId)"
   ]
  },
  {
   "cell_type": "code",
   "execution_count": null,
   "id": "f8cf89ce",
   "metadata": {},
   "outputs": [],
   "source": [
    "%%sql\n",
    "-- All in one statement\n",
    "SELECT      PerformanceDate, StartTime, TheaterName, MovieTitle, ProductionYear, count() as nbrOfTickets\n",
    "FROM        Ticket\n",
    "LEFT JOIN   Customer\n",
    "USING       (username)\n",
    "LEFT JOIN   Performance\n",
    "USING       (PerformanceId)\n",
    "LEFT JOIN   Movie\n",
    "USING       (IMDBKey)\n",
    "WHERE       username=\"alice2002\"\n",
    "GROUP BY    PerformanceId"
   ]
  },
  {
   "cell_type": "markdown",
   "id": "40083a2a",
   "metadata": {},
   "source": [
    "+ Get a user's password"
   ]
  },
  {
   "cell_type": "code",
   "execution_count": 5,
   "id": "a474920f",
   "metadata": {},
   "outputs": [
    {
     "name": "stdout",
     "output_type": "stream",
     "text": [
      " * sqlite:///theaters.sqlite\n",
      "Done.\n"
     ]
    },
    {
     "data": {
      "text/html": [
       "<table>\n",
       "    <tr>\n",
       "        <th>UserPassword</th>\n",
       "    </tr>\n",
       "    <tr>\n",
       "        <td>moVieAccount7428@</td>\n",
       "    </tr>\n",
       "</table>"
      ],
      "text/plain": [
       "[('moVieAccount7428@',)]"
      ]
     },
     "execution_count": 5,
     "metadata": {},
     "output_type": "execute_result"
    }
   ],
   "source": [
    "%%sql\n",
    "SELECT UserPassword\n",
    "FROM   Customer\n",
    "WHERE  username=\"jacob1576\""
   ]
  },
  {
   "cell_type": "code",
   "execution_count": null,
   "id": "92d70a26",
   "metadata": {},
   "outputs": [],
   "source": []
  }
 ],
 "metadata": {
  "kernelspec": {
   "display_name": "Python 3 (ipykernel)",
   "language": "python",
   "name": "python3"
  },
  "language_info": {
   "codemirror_mode": {
    "name": "ipython",
    "version": 3
   },
   "file_extension": ".py",
   "mimetype": "text/x-python",
   "name": "python",
   "nbconvert_exporter": "python",
   "pygments_lexer": "ipython3",
   "version": "3.10.9"
  },
  "vscode": {
   "interpreter": {
    "hash": "d1fd2003664248a0ff29074ee8a668a7dfc00b264c145278eb1914a848d2862b"
   }
  }
 },
 "nbformat": 4,
 "nbformat_minor": 5
}
