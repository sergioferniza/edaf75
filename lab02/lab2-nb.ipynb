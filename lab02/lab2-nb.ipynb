{
 "cells": [
  {
   "cell_type": "markdown",
   "id": "9ddd0fb8",
   "metadata": {},
   "source": [
    "<!-- -*- mode: markdown; coding: utf-8; fill-column: 60; ispell-dictionary: \"english\" -*- -->\n",
    "\n",
    "<meta charset=\"utf-8\"/>\n",
    "<meta name=\"viewport\" content=\"width=device-width,initial-scale=1\"/>\n",
    "<link rel=\"stylesheet\" href=\"style.css\">\n",
    "\n",
    "\n",
    "# EDAF75 - lab 2: Testing the database\n",
    "\n",
    "As usual we have to tell Jupyter to allow SQL:"
   ]
  },
  {
   "cell_type": "code",
   "execution_count": 1,
   "id": "c8ba870c",
   "metadata": {},
   "outputs": [],
   "source": [
    "%load_ext sql"
   ]
  },
  {
   "cell_type": "markdown",
   "id": "df8749a8",
   "metadata": {},
   "source": [
    "Check SQL Version"
   ]
  },
  {
   "cell_type": "code",
   "execution_count": 2,
   "id": "bf36cd54",
   "metadata": {},
   "outputs": [
    {
     "name": "stdout",
     "output_type": "stream",
     "text": [
      "SQLite Version 3.40.1\n"
     ]
    }
   ],
   "source": [
    "import sqlite3\n",
    "ver = sqlite3.sqlite_version_info\n",
    "print(\"SQLite Version {}.{}.{}\".format(ver[0], ver[1], ver[2]))"
   ]
  },
  {
   "cell_type": "markdown",
   "id": "845e42bb",
   "metadata": {},
   "source": [
    "And then we import our movie database"
   ]
  },
  {
   "cell_type": "code",
   "execution_count": 3,
   "id": "56328b4d",
   "metadata": {},
   "outputs": [],
   "source": [
    "%sql sqlite:///theaters.sqlite"
   ]
  },
  {
   "cell_type": "markdown",
   "id": "91dc1263",
   "metadata": {},
   "source": [
    "We want to make sure that SQLite3 really checks our foreign\n",
    "key constraints -- to do that, we run:"
   ]
  },
  {
   "cell_type": "code",
   "execution_count": 4,
   "id": "19fb92fd",
   "metadata": {},
   "outputs": [
    {
     "name": "stdout",
     "output_type": "stream",
     "text": [
      " * sqlite:///theaters.sqlite\n",
      "Done.\n"
     ]
    },
    {
     "data": {
      "text/plain": [
       "[]"
      ]
     },
     "execution_count": 4,
     "metadata": {},
     "output_type": "execute_result"
    }
   ],
   "source": [
    "%%sql\n",
    "PRAGMA foreign_keys=ON;"
   ]
  },
  {
   "cell_type": "markdown",
   "id": "1c8d51d7",
   "metadata": {},
   "source": [
    "## SQL statements to review at the lab session\n",
    "\n",
    "Write SQL code for the following tasks:\n",
    "\n",
    "+ Show the names of all movies."
   ]
  },
  {
   "cell_type": "code",
   "execution_count": 5,
   "id": "23ba4117",
   "metadata": {},
   "outputs": [
    {
     "name": "stdout",
     "output_type": "stream",
     "text": [
      " * sqlite:///theaters.sqlite\n",
      "Done.\n"
     ]
    },
    {
     "data": {
      "text/html": [
       "<table>\n",
       "    <tr>\n",
       "        <th>MovieTitle</th>\n",
       "    </tr>\n",
       "    <tr>\n",
       "        <td>Avatar: The Way of Water</td>\n",
       "    </tr>\n",
       "    <tr>\n",
       "        <td>Forest Gump</td>\n",
       "    </tr>\n",
       "    <tr>\n",
       "        <td>Silence of the Lambs</td>\n",
       "    </tr>\n",
       "    <tr>\n",
       "        <td>The Dark Night</td>\n",
       "    </tr>\n",
       "    <tr>\n",
       "        <td>The Breakfast Club</td>\n",
       "    </tr>\n",
       "    <tr>\n",
       "        <td>The Godfather</td>\n",
       "    </tr>\n",
       "    <tr>\n",
       "        <td>Top Gun</td>\n",
       "    </tr>\n",
       "    <tr>\n",
       "        <td>Mission Impossible - Fallout</td>\n",
       "    </tr>\n",
       "    <tr>\n",
       "        <td>Ponyo</td>\n",
       "    </tr>\n",
       "    <tr>\n",
       "        <td>Blade Runner 2049</td>\n",
       "    </tr>\n",
       "    <tr>\n",
       "        <td>12 years a Slave</td>\n",
       "    </tr>\n",
       "    <tr>\n",
       "        <td>$100,000 for a Killing</td>\n",
       "    </tr>\n",
       "    <tr>\n",
       "        <td>The Terminator</td>\n",
       "    </tr>\n",
       "    <tr>\n",
       "        <td>The Sound of Music</td>\n",
       "    </tr>\n",
       "</table>"
      ],
      "text/plain": [
       "[('Avatar: The Way of Water',),\n",
       " ('Forest Gump',),\n",
       " ('Silence of the Lambs',),\n",
       " ('The Dark Night',),\n",
       " ('The Breakfast Club',),\n",
       " ('The Godfather',),\n",
       " ('Top Gun',),\n",
       " ('Mission Impossible - Fallout',),\n",
       " ('Ponyo',),\n",
       " ('Blade Runner 2049',),\n",
       " ('12 years a Slave',),\n",
       " ('$100,000 for a Killing',),\n",
       " ('The Terminator',),\n",
       " ('The Sound of Music',)]"
      ]
     },
     "execution_count": 5,
     "metadata": {},
     "output_type": "execute_result"
    }
   ],
   "source": [
    "%%sql\n",
    "SELECT MovieTitle\n",
    "FROM   movie"
   ]
  },
  {
   "cell_type": "markdown",
   "id": "e1d9e3f5",
   "metadata": {},
   "source": [
    "+ Show the performance dates for one of the movies."
   ]
  },
  {
   "cell_type": "code",
   "execution_count": 6,
   "id": "7c05609f",
   "metadata": {},
   "outputs": [
    {
     "name": "stdout",
     "output_type": "stream",
     "text": [
      " * sqlite:///theaters.sqlite\n",
      "Done.\n"
     ]
    },
    {
     "data": {
      "text/html": [
       "<table>\n",
       "    <tr>\n",
       "        <th>MovieTitle</th>\n",
       "        <th>PerformanceId</th>\n",
       "        <th>StartTime</th>\n",
       "        <th>PerformanceDate</th>\n",
       "        <th>TheaterName</th>\n",
       "    </tr>\n",
       "    <tr>\n",
       "        <td>The Terminator</td>\n",
       "        <td>17</td>\n",
       "        <td>21:00</td>\n",
       "        <td>2022-11-06</td>\n",
       "        <td>Astoria</td>\n",
       "    </tr>\n",
       "    <tr>\n",
       "        <td>The Terminator</td>\n",
       "        <td>18</td>\n",
       "        <td>22:20</td>\n",
       "        <td>2022-11-06</td>\n",
       "        <td>Maximteatern</td>\n",
       "    </tr>\n",
       "</table>"
      ],
      "text/plain": [
       "[('The Terminator', 17, '21:00', '2022-11-06', 'Astoria'),\n",
       " ('The Terminator', 18, '22:20', '2022-11-06', 'Maximteatern')]"
      ]
     },
     "execution_count": 6,
     "metadata": {},
     "output_type": "execute_result"
    }
   ],
   "source": [
    "%%sql\n",
    "SELECT    MovieTitle, PerformanceId, StartTime, PerformanceDate, TheaterName\n",
    "FROM      movie\n",
    "LEFT JOIN performance\n",
    "USING     (IMDBKey)\n",
    "WHERE     MovieTitle=\"The Terminator\""
   ]
  },
  {
   "cell_type": "markdown",
   "id": "d113d9ff",
   "metadata": {},
   "source": [
    "+ Show all data concerning performances at a given theatere\n",
    "  on a given date."
   ]
  },
  {
   "cell_type": "code",
   "execution_count": 7,
   "id": "362ecfeb",
   "metadata": {},
   "outputs": [
    {
     "name": "stdout",
     "output_type": "stream",
     "text": [
      " * sqlite:///theaters.sqlite\n",
      "Done.\n"
     ]
    },
    {
     "data": {
      "text/html": [
       "<table>\n",
       "    <tr>\n",
       "        <th>IMDBKey</th>\n",
       "        <th>MovieTitle</th>\n",
       "        <th>ProductionYear</th>\n",
       "        <th>RunningTime</th>\n",
       "        <th>PerformanceId</th>\n",
       "        <th>StartTime</th>\n",
       "        <th>PerformanceDate</th>\n",
       "        <th>TheaterName</th>\n",
       "        <th>Capacity</th>\n",
       "    </tr>\n",
       "    <tr>\n",
       "        <td>tt0092099</td>\n",
       "        <td>Top Gun</td>\n",
       "        <td>1986</td>\n",
       "        <td>109</td>\n",
       "        <td>10</td>\n",
       "        <td>18:15</td>\n",
       "        <td>2022-12-19</td>\n",
       "        <td>Paramount Theater</td>\n",
       "        <td>12</td>\n",
       "    </tr>\n",
       "    <tr>\n",
       "        <td>tt0092099</td>\n",
       "        <td>Top Gun</td>\n",
       "        <td>1986</td>\n",
       "        <td>109</td>\n",
       "        <td>11</td>\n",
       "        <td>21:20</td>\n",
       "        <td>2022-12-19</td>\n",
       "        <td>Paramount Theater</td>\n",
       "        <td>12</td>\n",
       "    </tr>\n",
       "</table>"
      ],
      "text/plain": [
       "[('tt0092099', 'Top Gun', 1986, 109, 10, '18:15', '2022-12-19', 'Paramount Theater', 12),\n",
       " ('tt0092099', 'Top Gun', 1986, 109, 11, '21:20', '2022-12-19', 'Paramount Theater', 12)]"
      ]
     },
     "execution_count": 7,
     "metadata": {},
     "output_type": "execute_result"
    }
   ],
   "source": [
    "%%sql\n",
    "SELECT      *\n",
    "FROM        movie\n",
    "RIGHT JOIN  performance\n",
    "USING       (IMDBKey)\n",
    "RIGHT JOIN  theater\n",
    "USING       (TheaterName)\n",
    "WHERE       PerformanceDate=\"2022-12-19\" AND TheaterName=\"Paramount Theater\""
   ]
  },
  {
   "cell_type": "markdown",
   "id": "7fd56d9f",
   "metadata": {},
   "source": [
    "+ List all customers"
   ]
  },
  {
   "cell_type": "code",
   "execution_count": 8,
   "id": "b6b2ab68",
   "metadata": {},
   "outputs": [
    {
     "name": "stdout",
     "output_type": "stream",
     "text": [
      " * sqlite:///theaters.sqlite\n",
      "Done.\n"
     ]
    },
    {
     "data": {
      "text/html": [
       "<table>\n",
       "    <tr>\n",
       "        <th>Username</th>\n",
       "        <th>CustomerName</th>\n",
       "        <th>UserPassword</th>\n",
       "    </tr>\n",
       "    <tr>\n",
       "        <td>test123</td>\n",
       "        <td>John Smith</td>\n",
       "        <td>password123</td>\n",
       "    </tr>\n",
       "    <tr>\n",
       "        <td>brian22</td>\n",
       "        <td>Brian Svensson</td>\n",
       "        <td>SeCURePassword4$!</td>\n",
       "    </tr>\n",
       "    <tr>\n",
       "        <td>alice2002</td>\n",
       "        <td>Alice Johnson</td>\n",
       "        <td>a53g4hj7ks5b6hb!#$#</td>\n",
       "    </tr>\n",
       "    <tr>\n",
       "        <td>jacob1576</td>\n",
       "        <td>Jacob Krucinski</td>\n",
       "        <td>moVieAccount7428@</td>\n",
       "    </tr>\n",
       "</table>"
      ],
      "text/plain": [
       "[('test123', 'John Smith', 'password123'),\n",
       " ('brian22', 'Brian Svensson', 'SeCURePassword4$!'),\n",
       " ('alice2002', 'Alice Johnson', 'a53g4hj7ks5b6hb!#$#'),\n",
       " ('jacob1576', 'Jacob Krucinski', 'moVieAccount7428@')]"
      ]
     },
     "execution_count": 8,
     "metadata": {},
     "output_type": "execute_result"
    }
   ],
   "source": [
    "%%sql\n",
    "SELECT *\n",
    "FROM   customer"
   ]
  },
  {
   "cell_type": "markdown",
   "id": "e1f7f39b",
   "metadata": {},
   "source": [
    "+ List all tickets"
   ]
  },
  {
   "cell_type": "code",
   "execution_count": 9,
   "id": "f2d2f36c",
   "metadata": {},
   "outputs": [
    {
     "name": "stdout",
     "output_type": "stream",
     "text": [
      " * sqlite:///theaters.sqlite\n",
      "Done.\n"
     ]
    },
    {
     "data": {
      "text/html": [
       "<table>\n",
       "    <tr>\n",
       "        <th>TicketId</th>\n",
       "        <th>PerformanceId</th>\n",
       "        <th>Username</th>\n",
       "    </tr>\n",
       "    <tr>\n",
       "        <td>757be03a362d7f90e28490730e2c014c</td>\n",
       "        <td>1</td>\n",
       "        <td>test123</td>\n",
       "    </tr>\n",
       "    <tr>\n",
       "        <td>95ed6ec0fe370bb6bcac5456b78bc1fa</td>\n",
       "        <td>2</td>\n",
       "        <td>test123</td>\n",
       "    </tr>\n",
       "    <tr>\n",
       "        <td>347bba659a6744f3f25c4cf012fe548e</td>\n",
       "        <td>3</td>\n",
       "        <td>test123</td>\n",
       "    </tr>\n",
       "    <tr>\n",
       "        <td>b88887153900dbff9dd6f82eb75587d6</td>\n",
       "        <td>3</td>\n",
       "        <td>jacob1576</td>\n",
       "    </tr>\n",
       "    <tr>\n",
       "        <td>62390aff22b642c3ee04e2ee071acb6f</td>\n",
       "        <td>3</td>\n",
       "        <td>jacob1576</td>\n",
       "    </tr>\n",
       "    <tr>\n",
       "        <td>0cc22e9084151bd9c1452ec009d79709</td>\n",
       "        <td>4</td>\n",
       "        <td>alice2002</td>\n",
       "    </tr>\n",
       "    <tr>\n",
       "        <td>71624c294e4dae2afd6ed07772dad948</td>\n",
       "        <td>5</td>\n",
       "        <td>jacob1576</td>\n",
       "    </tr>\n",
       "    <tr>\n",
       "        <td>bf5adbd0569c1b7ae96a91c4fb7cab5c</td>\n",
       "        <td>19</td>\n",
       "        <td>brian22</td>\n",
       "    </tr>\n",
       "    <tr>\n",
       "        <td>1bd0c98ed6e4602fedee40d6107af85c</td>\n",
       "        <td>12</td>\n",
       "        <td>test123</td>\n",
       "    </tr>\n",
       "    <tr>\n",
       "        <td>c1c394d284b9835c1215f18aace932fb</td>\n",
       "        <td>13</td>\n",
       "        <td>test123</td>\n",
       "    </tr>\n",
       "    <tr>\n",
       "        <td>ab4949f77ac1800dbf827554a334c7e3</td>\n",
       "        <td>14</td>\n",
       "        <td>jacob1576</td>\n",
       "    </tr>\n",
       "    <tr>\n",
       "        <td>c213288a92d6b3b47f600bac5dabc297</td>\n",
       "        <td>17</td>\n",
       "        <td>jacob1576</td>\n",
       "    </tr>\n",
       "    <tr>\n",
       "        <td>98118375c330c87b7318909ac548b627</td>\n",
       "        <td>15</td>\n",
       "        <td>alice2002</td>\n",
       "    </tr>\n",
       "    <tr>\n",
       "        <td>e6a2dd68dbe8fe944820a2092254ea56</td>\n",
       "        <td>16</td>\n",
       "        <td>jacob1576</td>\n",
       "    </tr>\n",
       "    <tr>\n",
       "        <td>f6fc1978deec3c47e8e4d733e31264f9</td>\n",
       "        <td>18</td>\n",
       "        <td>brian22</td>\n",
       "    </tr>\n",
       "    <tr>\n",
       "        <td>9ffd4ae796f9d6d00fc4232474e526b0</td>\n",
       "        <td>2</td>\n",
       "        <td>alice2002</td>\n",
       "    </tr>\n",
       "    <tr>\n",
       "        <td>9192414e05b3bb3be8aa60e86de3c8b3</td>\n",
       "        <td>2</td>\n",
       "        <td>alice2002</td>\n",
       "    </tr>\n",
       "</table>"
      ],
      "text/plain": [
       "[('757be03a362d7f90e28490730e2c014c', 1, 'test123'),\n",
       " ('95ed6ec0fe370bb6bcac5456b78bc1fa', 2, 'test123'),\n",
       " ('347bba659a6744f3f25c4cf012fe548e', 3, 'test123'),\n",
       " ('b88887153900dbff9dd6f82eb75587d6', 3, 'jacob1576'),\n",
       " ('62390aff22b642c3ee04e2ee071acb6f', 3, 'jacob1576'),\n",
       " ('0cc22e9084151bd9c1452ec009d79709', 4, 'alice2002'),\n",
       " ('71624c294e4dae2afd6ed07772dad948', 5, 'jacob1576'),\n",
       " ('bf5adbd0569c1b7ae96a91c4fb7cab5c', 19, 'brian22'),\n",
       " ('1bd0c98ed6e4602fedee40d6107af85c', 12, 'test123'),\n",
       " ('c1c394d284b9835c1215f18aace932fb', 13, 'test123'),\n",
       " ('ab4949f77ac1800dbf827554a334c7e3', 14, 'jacob1576'),\n",
       " ('c213288a92d6b3b47f600bac5dabc297', 17, 'jacob1576'),\n",
       " ('98118375c330c87b7318909ac548b627', 15, 'alice2002'),\n",
       " ('e6a2dd68dbe8fe944820a2092254ea56', 16, 'jacob1576'),\n",
       " ('f6fc1978deec3c47e8e4d733e31264f9', 18, 'brian22'),\n",
       " ('9ffd4ae796f9d6d00fc4232474e526b0', 2, 'alice2002'),\n",
       " ('9192414e05b3bb3be8aa60e86de3c8b3', 2, 'alice2002')]"
      ]
     },
     "execution_count": 9,
     "metadata": {},
     "output_type": "execute_result"
    }
   ],
   "source": [
    "%%sql\n",
    "SELECT *\n",
    "FROM   ticket"
   ]
  },
  {
   "cell_type": "markdown",
   "id": "7e503f23",
   "metadata": {},
   "source": [
    "## Things to try out yourselves (not reviewed at the lab session)\n",
    "\n",
    "During lab 3 you'll write a REST service for the database\n",
    "you just created, and for the server to work properly, the\n",
    "things below should work.\n",
    "\n",
    "If you have any questions about the material below, feel\n",
    "free to ask them at the QA sessions (see Moodle for how to\n",
    "sign up for them).\n",
    "\n",
    "\n",
    "+ Create a new ticket to some performance (i.e., insert a\n",
    "  new row in your table of tickets)."
   ]
  },
  {
   "cell_type": "code",
   "execution_count": 10,
   "id": "e18db04f",
   "metadata": {},
   "outputs": [
    {
     "name": "stdout",
     "output_type": "stream",
     "text": [
      " * sqlite:///theaters.sqlite\n",
      "(sqlite3.OperationalError) cannot commit transaction - SQL statements in progress\n",
      "(Background on this error at: https://sqlalche.me/e/14/e3q8)\n"
     ]
    }
   ],
   "source": [
    "%%sql\n",
    "INSERT\n",
    "INTO        Ticket(Username, PerformanceId)\n",
    "VALUES      (\"alice2002\", 2)\n",
    "RETURNING   TicketId;"
   ]
  },
  {
   "cell_type": "code",
   "execution_count": 11,
   "id": "9f06d750",
   "metadata": {},
   "outputs": [],
   "source": [
    "def insert_ticket(username, performance_id):\n",
    "    # Regular SQL failing, try using sqlite3 library instead\n",
    "    db = sqlite3.connect(\"theaters.sqlite\")\n",
    "    c = db.cursor()\n",
    "    c.execute(\"PRAGMA foreign_keys = 1\")\n",
    "    c.execute(\"\"\"INSERT INTO Ticket(Username, PerformanceId) VALUES (?, ?) RETURNING TicketId\"\"\", \n",
    "              [username, performance_id])\n",
    "\n",
    "    found = c.fetchone()\n",
    "    if not found:\n",
    "        raise ValueError\n",
    "    else:\n",
    "        db.commit()\n",
    "        c.close() \n",
    "        return found[0]"
   ]
  },
  {
   "cell_type": "code",
   "execution_count": 12,
   "id": "a265a1b0",
   "metadata": {},
   "outputs": [],
   "source": [
    "def insert_theater(name, capacity):\n",
    "    # Regular SQL failing, try using sqlite3 library instead\n",
    "    db = sqlite3.connect(\"theaters.sqlite\")\n",
    "    c = db.cursor()\n",
    "    c.execute(\"PRAGMA foreign_keys = 1\")\n",
    "    c.execute(\"\"\"INSERT INTO Theater(TheaterName, Capacity) VALUES (?, ?) RETURNING TheaterName\"\"\", \n",
    "              [name, capacity])\n",
    "\n",
    "    print(\"executed\")\n",
    "    found = c.fetchone()\n",
    "    print(found)\n",
    "    if not found:\n",
    "        raise ValueError\n",
    "    else:\n",
    "        db.commit()\n",
    "        c.close() \n",
    "        return found[0]"
   ]
  },
  {
   "cell_type": "code",
   "execution_count": 13,
   "id": "8d3601d1",
   "metadata": {},
   "outputs": [],
   "source": [
    "def insert_performance(perf_id, time, date, theater_name, imdb_key):\n",
    "    # Regular SQL failing, try using sqlite3 library instead\n",
    "    db = sqlite3.connect(\"theaters.sqlite\")\n",
    "    c = db.cursor()\n",
    "    c.execute(\"\"\"INSERT INTO Performance(PerformanceId, StartTime, PerformanceDate, TheaterName, IMDBKey) \n",
    "                 VALUES (?, ?, ?, ?, ?) RETURNING IMDBKey\"\"\", \n",
    "                 [perf_id, time, date, theater_name, imdb_key])\n",
    "\n",
    "    print(\"executed\")\n",
    "    found = c.fetchone()\n",
    "    if not found:\n",
    "        raise ValueError\n",
    "    else:\n",
    "        db.commit()\n",
    "        c.close() \n",
    "        return found[0]"
   ]
  },
  {
   "cell_type": "code",
   "execution_count": 14,
   "id": "55a03325",
   "metadata": {},
   "outputs": [
    {
     "name": "stdout",
     "output_type": "stream",
     "text": [
      "819df13732b20261e1b1369f07e423cc\n"
     ]
    }
   ],
   "source": [
    "insert_id = insert_ticket(\"alice2002\", 2)\n",
    "print(insert_id)"
   ]
  },
  {
   "cell_type": "code",
   "execution_count": 15,
   "id": "56ae9803",
   "metadata": {},
   "outputs": [
    {
     "name": "stdout",
     "output_type": "stream",
     "text": [
      " * sqlite:///theaters.sqlite\n",
      "Done.\n"
     ]
    },
    {
     "data": {
      "text/html": [
       "<table>\n",
       "    <tr>\n",
       "        <th>TicketId</th>\n",
       "        <th>PerformanceId</th>\n",
       "        <th>Username</th>\n",
       "    </tr>\n",
       "    <tr>\n",
       "        <td>757be03a362d7f90e28490730e2c014c</td>\n",
       "        <td>1</td>\n",
       "        <td>test123</td>\n",
       "    </tr>\n",
       "    <tr>\n",
       "        <td>95ed6ec0fe370bb6bcac5456b78bc1fa</td>\n",
       "        <td>2</td>\n",
       "        <td>test123</td>\n",
       "    </tr>\n",
       "    <tr>\n",
       "        <td>347bba659a6744f3f25c4cf012fe548e</td>\n",
       "        <td>3</td>\n",
       "        <td>test123</td>\n",
       "    </tr>\n",
       "    <tr>\n",
       "        <td>b88887153900dbff9dd6f82eb75587d6</td>\n",
       "        <td>3</td>\n",
       "        <td>jacob1576</td>\n",
       "    </tr>\n",
       "    <tr>\n",
       "        <td>62390aff22b642c3ee04e2ee071acb6f</td>\n",
       "        <td>3</td>\n",
       "        <td>jacob1576</td>\n",
       "    </tr>\n",
       "    <tr>\n",
       "        <td>0cc22e9084151bd9c1452ec009d79709</td>\n",
       "        <td>4</td>\n",
       "        <td>alice2002</td>\n",
       "    </tr>\n",
       "    <tr>\n",
       "        <td>71624c294e4dae2afd6ed07772dad948</td>\n",
       "        <td>5</td>\n",
       "        <td>jacob1576</td>\n",
       "    </tr>\n",
       "    <tr>\n",
       "        <td>bf5adbd0569c1b7ae96a91c4fb7cab5c</td>\n",
       "        <td>19</td>\n",
       "        <td>brian22</td>\n",
       "    </tr>\n",
       "    <tr>\n",
       "        <td>1bd0c98ed6e4602fedee40d6107af85c</td>\n",
       "        <td>12</td>\n",
       "        <td>test123</td>\n",
       "    </tr>\n",
       "    <tr>\n",
       "        <td>c1c394d284b9835c1215f18aace932fb</td>\n",
       "        <td>13</td>\n",
       "        <td>test123</td>\n",
       "    </tr>\n",
       "    <tr>\n",
       "        <td>ab4949f77ac1800dbf827554a334c7e3</td>\n",
       "        <td>14</td>\n",
       "        <td>jacob1576</td>\n",
       "    </tr>\n",
       "    <tr>\n",
       "        <td>c213288a92d6b3b47f600bac5dabc297</td>\n",
       "        <td>17</td>\n",
       "        <td>jacob1576</td>\n",
       "    </tr>\n",
       "    <tr>\n",
       "        <td>98118375c330c87b7318909ac548b627</td>\n",
       "        <td>15</td>\n",
       "        <td>alice2002</td>\n",
       "    </tr>\n",
       "    <tr>\n",
       "        <td>e6a2dd68dbe8fe944820a2092254ea56</td>\n",
       "        <td>16</td>\n",
       "        <td>jacob1576</td>\n",
       "    </tr>\n",
       "    <tr>\n",
       "        <td>f6fc1978deec3c47e8e4d733e31264f9</td>\n",
       "        <td>18</td>\n",
       "        <td>brian22</td>\n",
       "    </tr>\n",
       "    <tr>\n",
       "        <td>9ffd4ae796f9d6d00fc4232474e526b0</td>\n",
       "        <td>2</td>\n",
       "        <td>alice2002</td>\n",
       "    </tr>\n",
       "    <tr>\n",
       "        <td>9192414e05b3bb3be8aa60e86de3c8b3</td>\n",
       "        <td>2</td>\n",
       "        <td>alice2002</td>\n",
       "    </tr>\n",
       "    <tr>\n",
       "        <td>819df13732b20261e1b1369f07e423cc</td>\n",
       "        <td>2</td>\n",
       "        <td>alice2002</td>\n",
       "    </tr>\n",
       "</table>"
      ],
      "text/plain": [
       "[('757be03a362d7f90e28490730e2c014c', 1, 'test123'),\n",
       " ('95ed6ec0fe370bb6bcac5456b78bc1fa', 2, 'test123'),\n",
       " ('347bba659a6744f3f25c4cf012fe548e', 3, 'test123'),\n",
       " ('b88887153900dbff9dd6f82eb75587d6', 3, 'jacob1576'),\n",
       " ('62390aff22b642c3ee04e2ee071acb6f', 3, 'jacob1576'),\n",
       " ('0cc22e9084151bd9c1452ec009d79709', 4, 'alice2002'),\n",
       " ('71624c294e4dae2afd6ed07772dad948', 5, 'jacob1576'),\n",
       " ('bf5adbd0569c1b7ae96a91c4fb7cab5c', 19, 'brian22'),\n",
       " ('1bd0c98ed6e4602fedee40d6107af85c', 12, 'test123'),\n",
       " ('c1c394d284b9835c1215f18aace932fb', 13, 'test123'),\n",
       " ('ab4949f77ac1800dbf827554a334c7e3', 14, 'jacob1576'),\n",
       " ('c213288a92d6b3b47f600bac5dabc297', 17, 'jacob1576'),\n",
       " ('98118375c330c87b7318909ac548b627', 15, 'alice2002'),\n",
       " ('e6a2dd68dbe8fe944820a2092254ea56', 16, 'jacob1576'),\n",
       " ('f6fc1978deec3c47e8e4d733e31264f9', 18, 'brian22'),\n",
       " ('9ffd4ae796f9d6d00fc4232474e526b0', 2, 'alice2002'),\n",
       " ('9192414e05b3bb3be8aa60e86de3c8b3', 2, 'alice2002'),\n",
       " ('819df13732b20261e1b1369f07e423cc', 2, 'alice2002')]"
      ]
     },
     "execution_count": 15,
     "metadata": {},
     "output_type": "execute_result"
    }
   ],
   "source": [
    "%%sql\n",
    "SELECT *\n",
    "FROM   ticket"
   ]
  },
  {
   "cell_type": "code",
   "execution_count": 16,
   "id": "b0680088",
   "metadata": {},
   "outputs": [
    {
     "name": "stdout",
     "output_type": "stream",
     "text": [
      " * sqlite:///theaters.sqlite\n",
      "0 rows affected.\n"
     ]
    },
    {
     "data": {
      "text/plain": [
       "[]"
      ]
     },
     "execution_count": 16,
     "metadata": {},
     "output_type": "execute_result"
    }
   ],
   "source": [
    "%%sql\n",
    "-- Delete the entry from above\n",
    "DELETE\n",
    "FROM   Ticket\n",
    "WHERE  TicketId=\"085c057c255978d73779c347951ed073\""
   ]
  },
  {
   "cell_type": "code",
   "execution_count": 17,
   "id": "706c0037",
   "metadata": {},
   "outputs": [
    {
     "name": "stdout",
     "output_type": "stream",
     "text": [
      " * sqlite:///theaters.sqlite\n",
      "Done.\n"
     ]
    },
    {
     "data": {
      "text/html": [
       "<table>\n",
       "    <tr>\n",
       "        <th>TicketId</th>\n",
       "        <th>PerformanceId</th>\n",
       "        <th>Username</th>\n",
       "    </tr>\n",
       "    <tr>\n",
       "        <td>757be03a362d7f90e28490730e2c014c</td>\n",
       "        <td>1</td>\n",
       "        <td>test123</td>\n",
       "    </tr>\n",
       "    <tr>\n",
       "        <td>95ed6ec0fe370bb6bcac5456b78bc1fa</td>\n",
       "        <td>2</td>\n",
       "        <td>test123</td>\n",
       "    </tr>\n",
       "    <tr>\n",
       "        <td>347bba659a6744f3f25c4cf012fe548e</td>\n",
       "        <td>3</td>\n",
       "        <td>test123</td>\n",
       "    </tr>\n",
       "    <tr>\n",
       "        <td>b88887153900dbff9dd6f82eb75587d6</td>\n",
       "        <td>3</td>\n",
       "        <td>jacob1576</td>\n",
       "    </tr>\n",
       "    <tr>\n",
       "        <td>62390aff22b642c3ee04e2ee071acb6f</td>\n",
       "        <td>3</td>\n",
       "        <td>jacob1576</td>\n",
       "    </tr>\n",
       "    <tr>\n",
       "        <td>0cc22e9084151bd9c1452ec009d79709</td>\n",
       "        <td>4</td>\n",
       "        <td>alice2002</td>\n",
       "    </tr>\n",
       "    <tr>\n",
       "        <td>71624c294e4dae2afd6ed07772dad948</td>\n",
       "        <td>5</td>\n",
       "        <td>jacob1576</td>\n",
       "    </tr>\n",
       "    <tr>\n",
       "        <td>bf5adbd0569c1b7ae96a91c4fb7cab5c</td>\n",
       "        <td>19</td>\n",
       "        <td>brian22</td>\n",
       "    </tr>\n",
       "    <tr>\n",
       "        <td>1bd0c98ed6e4602fedee40d6107af85c</td>\n",
       "        <td>12</td>\n",
       "        <td>test123</td>\n",
       "    </tr>\n",
       "    <tr>\n",
       "        <td>c1c394d284b9835c1215f18aace932fb</td>\n",
       "        <td>13</td>\n",
       "        <td>test123</td>\n",
       "    </tr>\n",
       "    <tr>\n",
       "        <td>ab4949f77ac1800dbf827554a334c7e3</td>\n",
       "        <td>14</td>\n",
       "        <td>jacob1576</td>\n",
       "    </tr>\n",
       "    <tr>\n",
       "        <td>c213288a92d6b3b47f600bac5dabc297</td>\n",
       "        <td>17</td>\n",
       "        <td>jacob1576</td>\n",
       "    </tr>\n",
       "    <tr>\n",
       "        <td>98118375c330c87b7318909ac548b627</td>\n",
       "        <td>15</td>\n",
       "        <td>alice2002</td>\n",
       "    </tr>\n",
       "    <tr>\n",
       "        <td>e6a2dd68dbe8fe944820a2092254ea56</td>\n",
       "        <td>16</td>\n",
       "        <td>jacob1576</td>\n",
       "    </tr>\n",
       "    <tr>\n",
       "        <td>f6fc1978deec3c47e8e4d733e31264f9</td>\n",
       "        <td>18</td>\n",
       "        <td>brian22</td>\n",
       "    </tr>\n",
       "    <tr>\n",
       "        <td>9ffd4ae796f9d6d00fc4232474e526b0</td>\n",
       "        <td>2</td>\n",
       "        <td>alice2002</td>\n",
       "    </tr>\n",
       "    <tr>\n",
       "        <td>9192414e05b3bb3be8aa60e86de3c8b3</td>\n",
       "        <td>2</td>\n",
       "        <td>alice2002</td>\n",
       "    </tr>\n",
       "    <tr>\n",
       "        <td>819df13732b20261e1b1369f07e423cc</td>\n",
       "        <td>2</td>\n",
       "        <td>alice2002</td>\n",
       "    </tr>\n",
       "</table>"
      ],
      "text/plain": [
       "[('757be03a362d7f90e28490730e2c014c', 1, 'test123'),\n",
       " ('95ed6ec0fe370bb6bcac5456b78bc1fa', 2, 'test123'),\n",
       " ('347bba659a6744f3f25c4cf012fe548e', 3, 'test123'),\n",
       " ('b88887153900dbff9dd6f82eb75587d6', 3, 'jacob1576'),\n",
       " ('62390aff22b642c3ee04e2ee071acb6f', 3, 'jacob1576'),\n",
       " ('0cc22e9084151bd9c1452ec009d79709', 4, 'alice2002'),\n",
       " ('71624c294e4dae2afd6ed07772dad948', 5, 'jacob1576'),\n",
       " ('bf5adbd0569c1b7ae96a91c4fb7cab5c', 19, 'brian22'),\n",
       " ('1bd0c98ed6e4602fedee40d6107af85c', 12, 'test123'),\n",
       " ('c1c394d284b9835c1215f18aace932fb', 13, 'test123'),\n",
       " ('ab4949f77ac1800dbf827554a334c7e3', 14, 'jacob1576'),\n",
       " ('c213288a92d6b3b47f600bac5dabc297', 17, 'jacob1576'),\n",
       " ('98118375c330c87b7318909ac548b627', 15, 'alice2002'),\n",
       " ('e6a2dd68dbe8fe944820a2092254ea56', 16, 'jacob1576'),\n",
       " ('f6fc1978deec3c47e8e4d733e31264f9', 18, 'brian22'),\n",
       " ('9ffd4ae796f9d6d00fc4232474e526b0', 2, 'alice2002'),\n",
       " ('9192414e05b3bb3be8aa60e86de3c8b3', 2, 'alice2002'),\n",
       " ('819df13732b20261e1b1369f07e423cc', 2, 'alice2002')]"
      ]
     },
     "execution_count": 17,
     "metadata": {},
     "output_type": "execute_result"
    }
   ],
   "source": [
    "%%sql\n",
    "SELECT *\n",
    "FROM   ticket"
   ]
  },
  {
   "cell_type": "markdown",
   "id": "1ee46018",
   "metadata": {},
   "source": [
    "In newer versions of SQLite (since version 3.35, released\n",
    "  in March 2021), and in\n",
    "  [PostgreSQL](https://www.postgresql.org/docs/current/sql-insert.html),\n",
    "  we can get any value generated during an insert using the\n",
    "  `INSERT...-RETURNING` statement:"
   ]
  },
  {
   "cell_type": "markdown",
   "id": "0dcccdf6",
   "metadata": {},
   "source": [
    "~~~{.sql}\n",
    "INSERT\n",
    "INTO       students\n",
    "VALUES     ('Amy', 3.9, 1200)\n",
    "RETURNING  s_id\n",
    "~~~\n"
   ]
  },
  {
   "cell_type": "markdown",
   "id": "8ed38a70",
   "metadata": {},
   "source": [
    "which would return the generated `s_id` for the new\n",
    "  student.\n",
    "\n",
    "  If your SQLite version is older than 3.35, and you can't\n",
    "  upgrade, you can instead use the following idea: each row\n",
    "  in a SQLite3 table has a `rowid` attribute, it is a unique\n",
    "  integer which essentially tells in which order the rows\n",
    "  were inserted, and it's not displayed in queries unless we\n",
    "  ask for it. SQLite3 also have a function,\n",
    "  `last_insert_rowid()`, which returns the `rowid` of the\n",
    "  last inserted row of a table, so we can see the `s_id` of\n",
    "  the most recently inserted student with the following\n",
    "  query:"
   ]
  },
  {
   "cell_type": "markdown",
   "id": "67581017",
   "metadata": {},
   "source": [
    "~~~{.sql}\n",
    "SELECT s_id\n",
    "FROM   students\n",
    "WHERE  rowid = last_insert_rowid();\n",
    "~~~\n"
   ]
  },
  {
   "cell_type": "markdown",
   "id": "b58bc8be",
   "metadata": {},
   "source": [
    "Now, check what ticket number we got for the ticket we\n",
    "  created above (it should be the same as the ticket id,\n",
    "  which should be a `randomblob`):"
   ]
  },
  {
   "cell_type": "code",
   "execution_count": 18,
   "id": "e178c421",
   "metadata": {},
   "outputs": [
    {
     "name": "stdout",
     "output_type": "stream",
     "text": [
      " * sqlite:///theaters.sqlite\n",
      "Done.\n"
     ]
    },
    {
     "data": {
      "text/html": [
       "<table>\n",
       "    <tr>\n",
       "        <th>TicketId</th>\n",
       "    </tr>\n",
       "    <tr>\n",
       "        <td>819df13732b20261e1b1369f07e423cc</td>\n",
       "    </tr>\n",
       "</table>"
      ],
      "text/plain": [
       "[('819df13732b20261e1b1369f07e423cc',)]"
      ]
     },
     "execution_count": 18,
     "metadata": {},
     "output_type": "execute_result"
    }
   ],
   "source": [
    "%%sql\n",
    "SELECT TicketId\n",
    "FROM   Ticket\n",
    "WHERE  rowid = last_insert_rowid();"
   ]
  },
  {
   "cell_type": "markdown",
   "id": "de09d2d9",
   "metadata": {},
   "source": [
    "+ Try to insert two movie theaters with the same name (this\n",
    "  should fail)."
   ]
  },
  {
   "cell_type": "code",
   "execution_count": 19,
   "id": "3eae6b70",
   "metadata": {},
   "outputs": [
    {
     "name": "stdout",
     "output_type": "stream",
     "text": [
      " * sqlite:///theaters.sqlite\n",
      "0 rows affected.\n"
     ]
    },
    {
     "data": {
      "text/plain": [
       "[]"
      ]
     },
     "execution_count": 19,
     "metadata": {},
     "output_type": "execute_result"
    }
   ],
   "source": [
    "%%sql\n",
    "--Reset if necessary\n",
    "DELETE\n",
    "FROM   Theater\n",
    "WHERE  TheaterName=\"Lund Theater\""
   ]
  },
  {
   "cell_type": "code",
   "execution_count": 20,
   "id": "6a3b470d",
   "metadata": {},
   "outputs": [],
   "source": [
    "# Uncomment the 2 lines below to test\n",
    "#insert_theater(\"Lund Theater\", 200)\n",
    "#insert_theater(\"Lund Theater\", 100)"
   ]
  },
  {
   "cell_type": "markdown",
   "id": "0df97d24",
   "metadata": {},
   "source": [
    "+ Try to insert a performance where the theater doesn’t\n",
    "  exist in the database (this should fail)."
   ]
  },
  {
   "cell_type": "code",
   "execution_count": 22,
   "id": "e9175698",
   "metadata": {},
   "outputs": [
    {
     "name": "stdout",
     "output_type": "stream",
     "text": [
      " * sqlite:///theaters.sqlite\n",
      "(sqlite3.OperationalError) database is locked\n",
      "[SQL: --Reset if necessary\n",
      "DELETE\n",
      "FROM   Performance\n",
      "WHERE  PerformanceId=20]\n",
      "(Background on this error at: https://sqlalche.me/e/14/e3q8)\n"
     ]
    }
   ],
   "source": [
    "%%sql\n",
    "--Reset if necessary\n",
    "DELETE\n",
    "FROM   Performance\n",
    "WHERE  PerformanceId=20"
   ]
  },
  {
   "cell_type": "code",
   "execution_count": 21,
   "id": "c2b7e7dc",
   "metadata": {},
   "outputs": [
    {
     "ename": "IntegrityError",
     "evalue": "UNIQUE constraint failed: Performance.PerformanceId",
     "output_type": "error",
     "traceback": [
      "\u001b[1;31m---------------------------------------------------------------------------\u001b[0m",
      "\u001b[1;31mIntegrityError\u001b[0m                            Traceback (most recent call last)",
      "Cell \u001b[1;32mIn[21], line 2\u001b[0m\n\u001b[0;32m      1\u001b[0m \u001b[38;5;66;03m# Why didn't this fail??\u001b[39;00m\n\u001b[1;32m----> 2\u001b[0m \u001b[43minsert_performance\u001b[49m\u001b[43m(\u001b[49m\u001b[38;5;241;43m20\u001b[39;49m\u001b[43m,\u001b[49m\u001b[38;5;124;43m\"\u001b[39;49m\u001b[38;5;124;43m15:00\u001b[39;49m\u001b[38;5;124;43m\"\u001b[39;49m\u001b[43m,\u001b[49m\u001b[38;5;124;43m\"\u001b[39;49m\u001b[38;5;124;43m2023-02-05\u001b[39;49m\u001b[38;5;124;43m\"\u001b[39;49m\u001b[43m,\u001b[49m\u001b[38;5;124;43m\"\u001b[39;49m\u001b[38;5;124;43mNonexistant Theater\u001b[39;49m\u001b[38;5;124;43m\"\u001b[39;49m\u001b[43m,\u001b[49m\u001b[38;5;124;43m\"\u001b[39;49m\u001b[38;5;124;43mtt1630029\u001b[39;49m\u001b[38;5;124;43m\"\u001b[39;49m\u001b[43m)\u001b[49m\n",
      "Cell \u001b[1;32mIn[13], line 5\u001b[0m, in \u001b[0;36minsert_performance\u001b[1;34m(perf_id, time, date, theater_name, imdb_key)\u001b[0m\n\u001b[0;32m      3\u001b[0m db \u001b[38;5;241m=\u001b[39m sqlite3\u001b[38;5;241m.\u001b[39mconnect(\u001b[38;5;124m\"\u001b[39m\u001b[38;5;124mtheaters.sqlite\u001b[39m\u001b[38;5;124m\"\u001b[39m)\n\u001b[0;32m      4\u001b[0m c \u001b[38;5;241m=\u001b[39m db\u001b[38;5;241m.\u001b[39mcursor()\n\u001b[1;32m----> 5\u001b[0m \u001b[43mc\u001b[49m\u001b[38;5;241;43m.\u001b[39;49m\u001b[43mexecute\u001b[49m\u001b[43m(\u001b[49m\u001b[38;5;124;43m\"\"\"\u001b[39;49m\u001b[38;5;124;43mINSERT INTO Performance(PerformanceId, StartTime, PerformanceDate, TheaterName, IMDBKey) \u001b[39;49m\n\u001b[0;32m      6\u001b[0m \u001b[38;5;124;43m             VALUES (?, ?, ?, ?, ?) RETURNING IMDBKey\u001b[39;49m\u001b[38;5;124;43m\"\"\"\u001b[39;49m\u001b[43m,\u001b[49m\u001b[43m \u001b[49m\n\u001b[0;32m      7\u001b[0m \u001b[43m             \u001b[49m\u001b[43m[\u001b[49m\u001b[43mperf_id\u001b[49m\u001b[43m,\u001b[49m\u001b[43m \u001b[49m\u001b[43mtime\u001b[49m\u001b[43m,\u001b[49m\u001b[43m \u001b[49m\u001b[43mdate\u001b[49m\u001b[43m,\u001b[49m\u001b[43m \u001b[49m\u001b[43mtheater_name\u001b[49m\u001b[43m,\u001b[49m\u001b[43m \u001b[49m\u001b[43mimdb_key\u001b[49m\u001b[43m]\u001b[49m\u001b[43m)\u001b[49m\n\u001b[0;32m      9\u001b[0m \u001b[38;5;28mprint\u001b[39m(\u001b[38;5;124m\"\u001b[39m\u001b[38;5;124mexecuted\u001b[39m\u001b[38;5;124m\"\u001b[39m)\n\u001b[0;32m     10\u001b[0m found \u001b[38;5;241m=\u001b[39m c\u001b[38;5;241m.\u001b[39mfetchone()\n",
      "\u001b[1;31mIntegrityError\u001b[0m: UNIQUE constraint failed: Performance.PerformanceId"
     ]
    }
   ],
   "source": [
    "# Why didn't this fail??\n",
    "insert_performance(20,\"15:00\",\"2023-02-05\",\"Nonexistant Theater\",\"tt1630029\")"
   ]
  },
  {
   "cell_type": "markdown",
   "id": "41772f37",
   "metadata": {},
   "source": [
    "+ Create a ticket where either the user or the performance\n",
    "  doesn’t exist (this should fail)."
   ]
  },
  {
   "cell_type": "code",
   "execution_count": null,
   "id": "3e13404b",
   "metadata": {},
   "outputs": [],
   "source": [
    "%%sql\n"
   ]
  }
 ],
 "metadata": {
  "kernelspec": {
   "display_name": "Python 3 (ipykernel)",
   "language": "python",
   "name": "python3"
  },
  "language_info": {
   "codemirror_mode": {
    "name": "ipython",
    "version": 3
   },
   "file_extension": ".py",
   "mimetype": "text/x-python",
   "name": "python",
   "nbconvert_exporter": "python",
   "pygments_lexer": "ipython3",
   "version": "3.10.9"
  },
  "vscode": {
   "interpreter": {
    "hash": "d1fd2003664248a0ff29074ee8a668a7dfc00b264c145278eb1914a848d2862b"
   }
  }
 },
 "nbformat": 4,
 "nbformat_minor": 5
}
