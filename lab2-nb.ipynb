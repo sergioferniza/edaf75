{
 "cells": [
  {
   "cell_type": "markdown",
   "id": "9ddd0fb8",
   "metadata": {},
   "source": [
    "<!-- -*- mode: markdown; coding: utf-8; fill-column: 60; ispell-dictionary: \"english\" -*- -->\n",
    "\n",
    "<meta charset=\"utf-8\"/>\n",
    "<meta name=\"viewport\" content=\"width=device-width,initial-scale=1\"/>\n",
    "<link rel=\"stylesheet\" href=\"style.css\">\n",
    "\n",
    "\n",
    "# EDAF75 - lab 2: Testing the database\n",
    "\n",
    "As usual we have to tell Jupyter to allow SQL:"
   ]
  },
  {
   "cell_type": "code",
   "execution_count": 1,
   "id": "c8ba870c",
   "metadata": {},
   "outputs": [],
   "source": [
    "%load_ext sql"
   ]
  },
  {
   "cell_type": "markdown",
   "id": "845e42bb",
   "metadata": {},
   "source": [
    "And then we import our movie database"
   ]
  },
  {
   "cell_type": "code",
   "execution_count": 13,
   "id": "56328b4d",
   "metadata": {},
   "outputs": [],
   "source": [
    "%sql sqlite:///theaters.sqlite"
   ]
  },
  {
   "cell_type": "markdown",
   "id": "91dc1263",
   "metadata": {},
   "source": [
    "We want to make sure that SQLite3 really checks our foreign\n",
    "key constraints -- to do that, we run:"
   ]
  },
  {
   "cell_type": "code",
   "execution_count": 12,
   "id": "19fb92fd",
   "metadata": {},
   "outputs": [
    {
     "name": "stdout",
     "output_type": "stream",
     "text": [
      " * sqlite:///theaters.sqlite\n",
      "Done.\n"
     ]
    },
    {
     "data": {
      "text/plain": [
       "[]"
      ]
     },
     "execution_count": 12,
     "metadata": {},
     "output_type": "execute_result"
    }
   ],
   "source": [
    "%%sql\n",
    "PRAGMA foreign_keys=ON;"
   ]
  },
  {
   "cell_type": "markdown",
   "id": "1c8d51d7",
   "metadata": {},
   "source": [
    "## SQL statements to review at the lab session\n",
    "\n",
    "Write SQL code for the following tasks:\n",
    "\n",
    "+ Show the names of all movies."
   ]
  },
  {
   "cell_type": "code",
   "execution_count": 31,
   "id": "23ba4117",
   "metadata": {},
   "outputs": [
    {
     "name": "stdout",
     "output_type": "stream",
     "text": [
      " * sqlite:///theaters.sqlite\n",
      "Done.\n"
     ]
    },
    {
     "data": {
      "text/html": [
       "<table>\n",
       "    <tr>\n",
       "        <th>TheaterName</th>\n",
       "        <th>Capacity</th>\n",
       "    </tr>\n",
       "    <tr>\n",
       "        <td>Apollo Theatre</td>\n",
       "        <td>40</td>\n",
       "    </tr>\n",
       "    <tr>\n",
       "        <td>The Cinema Terminal</td>\n",
       "        <td>1000</td>\n",
       "    </tr>\n",
       "    <tr>\n",
       "        <td>Goodness Gracious Movie Theatre</td>\n",
       "        <td>12</td>\n",
       "    </tr>\n",
       "    <tr>\n",
       "        <td>One Man Cinema</td>\n",
       "        <td>1</td>\n",
       "    </tr>\n",
       "    <tr>\n",
       "        <td>Cinema 1972</td>\n",
       "        <td>72</td>\n",
       "    </tr>\n",
       "    <tr>\n",
       "        <td>Artcraft Theater</td>\n",
       "        <td>450</td>\n",
       "    </tr>\n",
       "    <tr>\n",
       "        <td>Booth Theater</td>\n",
       "        <td>750</td>\n",
       "    </tr>\n",
       "    <tr>\n",
       "        <td>Capitol Theater</td>\n",
       "        <td>900</td>\n",
       "    </tr>\n",
       "    <tr>\n",
       "        <td>Cliff Theater</td>\n",
       "        <td>40</td>\n",
       "    </tr>\n",
       "    <tr>\n",
       "        <td>Los Angeles Theater</td>\n",
       "        <td>1000</td>\n",
       "    </tr>\n",
       "    <tr>\n",
       "        <td>Paramount Theater</td>\n",
       "        <td>12</td>\n",
       "    </tr>\n",
       "    <tr>\n",
       "        <td>Tower Theater</td>\n",
       "        <td>1</td>\n",
       "    </tr>\n",
       "    <tr>\n",
       "        <td>Vista Theater</td>\n",
       "        <td>72</td>\n",
       "    </tr>\n",
       "    <tr>\n",
       "        <td>Garneau Theater</td>\n",
       "        <td>450</td>\n",
       "    </tr>\n",
       "    <tr>\n",
       "        <td>Royal Cinema</td>\n",
       "        <td>750</td>\n",
       "    </tr>\n",
       "    <tr>\n",
       "        <td>Atlantic</td>\n",
       "        <td>900</td>\n",
       "    </tr>\n",
       "    <tr>\n",
       "        <td>Astoria</td>\n",
       "        <td>204</td>\n",
       "    </tr>\n",
       "    <tr>\n",
       "        <td>Maximteatern</td>\n",
       "        <td>208</td>\n",
       "    </tr>\n",
       "    <tr>\n",
       "        <td>Draken</td>\n",
       "        <td>10</td>\n",
       "    </tr>\n",
       "</table>"
      ],
      "text/plain": [
       "[('Apollo Theatre', 40),\n",
       " ('The Cinema Terminal', 1000),\n",
       " ('Goodness Gracious Movie Theatre', 12),\n",
       " ('One Man Cinema', 1),\n",
       " ('Cinema 1972', 72),\n",
       " ('Artcraft Theater', 450),\n",
       " ('Booth Theater', 750),\n",
       " ('Capitol Theater', 900),\n",
       " ('Cliff Theater', 40),\n",
       " ('Los Angeles Theater', 1000),\n",
       " ('Paramount Theater', 12),\n",
       " ('Tower Theater', 1),\n",
       " ('Vista Theater', 72),\n",
       " ('Garneau Theater', 450),\n",
       " ('Royal Cinema', 750),\n",
       " ('Atlantic', 900),\n",
       " ('Astoria', 204),\n",
       " ('Maximteatern', 208),\n",
       " ('Draken', 10)]"
      ]
     },
     "execution_count": 31,
     "metadata": {},
     "output_type": "execute_result"
    }
   ],
   "source": [
    "%%sql\n",
    "SELECT *\n",
    "FROM   Theater"
   ]
  },
  {
   "cell_type": "markdown",
   "id": "e1d9e3f5",
   "metadata": {},
   "source": [
    "+ Show the performance dates for one of the movies."
   ]
  },
  {
   "cell_type": "code",
   "execution_count": null,
   "id": "7c05609f",
   "metadata": {},
   "outputs": [],
   "source": [
    "%%sql\n"
   ]
  },
  {
   "cell_type": "markdown",
   "id": "d113d9ff",
   "metadata": {},
   "source": [
    "+ Show all data concerning performances at a given theatere\n",
    "  on a given date."
   ]
  },
  {
   "cell_type": "code",
   "execution_count": null,
   "id": "362ecfeb",
   "metadata": {},
   "outputs": [],
   "source": [
    "%%sql\n"
   ]
  },
  {
   "cell_type": "markdown",
   "id": "7fd56d9f",
   "metadata": {},
   "source": [
    "+ List all customers"
   ]
  },
  {
   "cell_type": "code",
   "execution_count": null,
   "id": "b6b2ab68",
   "metadata": {},
   "outputs": [],
   "source": [
    "%%sql\n"
   ]
  },
  {
   "cell_type": "markdown",
   "id": "e1f7f39b",
   "metadata": {},
   "source": [
    "+ List all tickets"
   ]
  },
  {
   "cell_type": "code",
   "execution_count": null,
   "id": "f2d2f36c",
   "metadata": {},
   "outputs": [],
   "source": [
    "%%sql\n"
   ]
  },
  {
   "cell_type": "markdown",
   "id": "7e503f23",
   "metadata": {},
   "source": [
    "## Things to try out yourselves (not reviewed at the lab session)\n",
    "\n",
    "During lab 3 you'll write a REST service for the database\n",
    "you just created, and for the server to work properly, the\n",
    "things below should work.\n",
    "\n",
    "If you have any questions about the material below, feel\n",
    "free to ask them at the QA sessions (see Moodle for how to\n",
    "sign up for them).\n",
    "\n",
    "\n",
    "+ Create a new ticket to some performance (i.e., insert a\n",
    "  new row in your table of tickets)."
   ]
  },
  {
   "cell_type": "code",
   "execution_count": null,
   "id": "e18db04f",
   "metadata": {},
   "outputs": [],
   "source": [
    "%%sql\n"
   ]
  },
  {
   "cell_type": "markdown",
   "id": "1ee46018",
   "metadata": {},
   "source": [
    "In newer versions of SQLite (since version 3.35, released\n",
    "  in March 2021), and in\n",
    "  [PostgreSQL](https://www.postgresql.org/docs/current/sql-insert.html),\n",
    "  we can get any value generated during an insert using the\n",
    "  `INSERT...-RETURNING` statement:"
   ]
  },
  {
   "cell_type": "markdown",
   "id": "0dcccdf6",
   "metadata": {},
   "source": [
    "~~~{.sql}\n",
    "INSERT\n",
    "INTO       students\n",
    "VALUES     ('Amy', 3.9, 1200)\n",
    "RETURNING  s_id\n",
    "~~~\n"
   ]
  },
  {
   "cell_type": "markdown",
   "id": "8ed38a70",
   "metadata": {},
   "source": [
    "which would return the generated `s_id` for the new\n",
    "  student.\n",
    "\n",
    "  If your SQLite version is older than 3.35, and you can't\n",
    "  upgrade, you can instead use the following idea: each row\n",
    "  in a SQLite3 table has a `rowid` attribute, it is a unique\n",
    "  integer which essentially tells in which order the rows\n",
    "  were inserted, and it's not displayed in queries unless we\n",
    "  ask for it. SQLite3 also have a function,\n",
    "  `last_insert_rowid()`, which returns the `rowid` of the\n",
    "  last inserted row of a table, so we can see the `s_id` of\n",
    "  the most recently inserted student with the following\n",
    "  query:"
   ]
  },
  {
   "cell_type": "markdown",
   "id": "67581017",
   "metadata": {},
   "source": [
    "~~~{.sql}\n",
    "SELECT s_id\n",
    "FROM   students\n",
    "WHERE  rowid = last_insert_rowid();\n",
    "~~~\n"
   ]
  },
  {
   "cell_type": "markdown",
   "id": "b58bc8be",
   "metadata": {},
   "source": [
    "Now, check what ticket number we got for the ticket we\n",
    "  created above (it should be the same as the ticket id,\n",
    "  which should be a `randomblob`):"
   ]
  },
  {
   "cell_type": "code",
   "execution_count": null,
   "id": "e178c421",
   "metadata": {},
   "outputs": [],
   "source": [
    "%%sql\n"
   ]
  },
  {
   "cell_type": "markdown",
   "id": "de09d2d9",
   "metadata": {},
   "source": [
    "+ Try to insert two movie theaters with the same name (this\n",
    "  should fail)."
   ]
  },
  {
   "cell_type": "code",
   "execution_count": null,
   "id": "6a3b470d",
   "metadata": {},
   "outputs": [],
   "source": [
    "%%sql\n"
   ]
  },
  {
   "cell_type": "markdown",
   "id": "0df97d24",
   "metadata": {},
   "source": [
    "+ Try to insert a performance where the theater doesn’t\n",
    "  exist in the database (this should fail)."
   ]
  },
  {
   "cell_type": "code",
   "execution_count": null,
   "id": "c2b7e7dc",
   "metadata": {},
   "outputs": [],
   "source": [
    "%%sql\n"
   ]
  },
  {
   "cell_type": "markdown",
   "id": "41772f37",
   "metadata": {},
   "source": [
    "+ Create a ticket where either the user or the performance\n",
    "  doesn’t exist (this should fail)."
   ]
  },
  {
   "cell_type": "code",
   "execution_count": null,
   "id": "3e13404b",
   "metadata": {},
   "outputs": [],
   "source": [
    "%%sql\n"
   ]
  }
 ],
 "metadata": {
  "kernelspec": {
   "display_name": "Python 3 (ipykernel)",
   "language": "python",
   "name": "python3"
  },
  "language_info": {
   "codemirror_mode": {
    "name": "ipython",
    "version": 3
   },
   "file_extension": ".py",
   "mimetype": "text/x-python",
   "name": "python",
   "nbconvert_exporter": "python",
   "pygments_lexer": "ipython3",
   "version": "3.9.12"
  },
  "vscode": {
   "interpreter": {
    "hash": "d1fd2003664248a0ff29074ee8a668a7dfc00b264c145278eb1914a848d2862b"
   }
  }
 },
 "nbformat": 4,
 "nbformat_minor": 5
}
